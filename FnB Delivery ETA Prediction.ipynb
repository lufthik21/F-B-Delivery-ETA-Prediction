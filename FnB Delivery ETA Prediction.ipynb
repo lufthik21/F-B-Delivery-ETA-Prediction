{
 "cells": [
  {
   "cell_type": "code",
   "execution_count": 6,
   "id": "completed-crime",
   "metadata": {
    "_cell_guid": "b1076dfc-b9ad-4769-8c92-a6c4dae69d19",
    "_uuid": "8f2839f25d086af736a60e9eeb907d3b93b6e0e5",
    "execution": {
     "iopub.execute_input": "2021-06-04T13:15:23.246160Z",
     "iopub.status.busy": "2021-06-04T13:15:23.245250Z",
     "iopub.status.idle": "2021-06-04T13:15:23.263878Z",
     "shell.execute_reply": "2021-06-04T13:15:23.262617Z",
     "shell.execute_reply.started": "2021-06-04T12:37:33.633636Z"
    },
    "papermill": {
     "duration": 0.083223,
     "end_time": "2021-06-04T13:15:23.264211",
     "exception": false,
     "start_time": "2021-06-04T13:15:23.180988",
     "status": "completed"
    },
    "tags": []
   },
   "outputs": [
    {
     "name": "stdout",
     "output_type": "stream",
     "text": [
      "D:/Downloads/ETA Predict/Participants Data\\Data_Test.xlsx\n",
      "D:/Downloads/ETA Predict/Participants Data\\Data_Train.xlsx\n",
      "D:/Downloads/ETA Predict/Participants Data\\Sample_Submission.xlsx\n"
     ]
    }
   ],
   "source": [
    "# This Python 3 environment comes with many helpful analytics libraries installed\n",
    "# It is defined by the kaggle/python Docker image: https://github.com/kaggle/docker-python\n",
    "# For example, here's several helpful packages to load\n",
    "\n",
    "import numpy as np # linear algebra\n",
    "import pandas as pd # data processing, CSV file I/O (e.g. pd.read_csv)\n",
    "\n",
    "# Input data files are available in the read-only \"../input/\" directory\n",
    "# For example, running this (by clicking run or pressing Shift+Enter) will list all files under the input directory\n",
    "\n",
    "import os\n",
    "for dirname, _, filenames in os.walk('D:/Downloads/ETA Predict/Participants Data'):\n",
    "    for filename in filenames:\n",
    "        print(os.path.join(dirname, filename))\n",
    "\n",
    "# You can write up to 20GB to the current directory (/kaggle/working/) that gets preserved as output when you create a version using \"Save & Run All\" \n",
    "# You can also write temporary files to /kaggle/temp/, but they won't be saved outside of the current session"
   ]
  },
  {
   "cell_type": "markdown",
   "id": "rational-gregory",
   "metadata": {
    "papermill": {
     "duration": 0.047113,
     "end_time": "2021-06-04T13:15:23.360393",
     "exception": false,
     "start_time": "2021-06-04T13:15:23.313280",
     "status": "completed"
    },
    "tags": []
   },
   "source": [
    "# Let's predict the Delivery Time with simple ML\n",
    "\n",
    "1. Prepare the data\n",
    "2. Select a model and train\n",
    "3. Solve the problem"
   ]
  },
  {
   "cell_type": "code",
   "execution_count": 2,
   "id": "ready-trust",
   "metadata": {
    "execution": {
     "iopub.execute_input": "2021-06-04T13:15:23.477930Z",
     "iopub.status.busy": "2021-06-04T13:15:23.476999Z",
     "iopub.status.idle": "2021-06-04T13:15:35.796548Z",
     "shell.execute_reply": "2021-06-04T13:15:35.795564Z",
     "shell.execute_reply.started": "2021-06-04T12:37:33.665723Z"
    },
    "papermill": {
     "duration": 12.388861,
     "end_time": "2021-06-04T13:15:35.796754",
     "exception": false,
     "start_time": "2021-06-04T13:15:23.407893",
     "status": "completed"
    },
    "tags": []
   },
   "outputs": [
    {
     "name": "stdout",
     "output_type": "stream",
     "text": [
      "Requirement already satisfied: openpyxl in c:\\programdata\\anaconda3\\lib\\site-packages (3.0.9)\n",
      "Requirement already satisfied: et-xmlfile in c:\\programdata\\anaconda3\\lib\\site-packages (from openpyxl) (1.1.0)\n"
     ]
    },
    {
     "name": "stderr",
     "output_type": "stream",
     "text": [
      "WARNING: Ignoring invalid distribution -py (c:\\programdata\\anaconda3\\lib\\site-packages)\n",
      "WARNING: Ignoring invalid distribution -5py (c:\\programdata\\anaconda3\\lib\\site-packages)\n",
      "WARNING: Ignoring invalid distribution - (c:\\programdata\\anaconda3\\lib\\site-packages)\n",
      "WARNING: Ignoring invalid distribution -ackaging (c:\\programdata\\anaconda3\\lib\\site-packages)\n",
      "WARNING: Ignoring invalid distribution -py (c:\\programdata\\anaconda3\\lib\\site-packages)\n",
      "WARNING: Ignoring invalid distribution -5py (c:\\programdata\\anaconda3\\lib\\site-packages)\n",
      "WARNING: Ignoring invalid distribution - (c:\\programdata\\anaconda3\\lib\\site-packages)\n",
      "WARNING: Ignoring invalid distribution -ackaging (c:\\programdata\\anaconda3\\lib\\site-packages)\n"
     ]
    }
   ],
   "source": [
    "# Libraries\n",
    "!pip install openpyxl\n",
    "\n",
    "import pandas as pd\n",
    "\n",
    "from sklearn.ensemble import RandomForestRegressor\n",
    "from sklearn.model_selection import cross_val_score\n",
    "from sklearn.metrics import mean_squared_error\n",
    "from sklearn.metrics import mean_absolute_error"
   ]
  },
  {
   "cell_type": "code",
   "execution_count": 7,
   "id": "waiting-adrian",
   "metadata": {
    "execution": {
     "iopub.execute_input": "2021-06-04T13:15:35.913667Z",
     "iopub.status.busy": "2021-06-04T13:15:35.911859Z",
     "iopub.status.idle": "2021-06-04T13:15:35.916268Z",
     "shell.execute_reply": "2021-06-04T13:15:35.915600Z",
     "shell.execute_reply.started": "2021-06-04T12:37:44.266162Z"
    },
    "papermill": {
     "duration": 0.064069,
     "end_time": "2021-06-04T13:15:35.916451",
     "exception": false,
     "start_time": "2021-06-04T13:15:35.852382",
     "status": "completed"
    },
    "tags": []
   },
   "outputs": [],
   "source": [
    "# FILE PATH\n",
    "TRAIN_PATH = \"D:/Downloads/ETA Predict/Participants Data/Data_Train.xlsx\"\n",
    "TEST_PATH = \"D:\\Downloads/ETA Predict/Participants Data/Data_Test.xlsx\""
   ]
  },
  {
   "cell_type": "markdown",
   "id": "killing-advocacy",
   "metadata": {
    "papermill": {
     "duration": 0.05144,
     "end_time": "2021-06-04T13:15:36.019601",
     "exception": false,
     "start_time": "2021-06-04T13:15:35.968161",
     "status": "completed"
    },
    "tags": []
   },
   "source": [
    "## 1. Prepare the data"
   ]
  },
  {
   "cell_type": "markdown",
   "id": "pending-failing",
   "metadata": {
    "papermill": {
     "duration": 0.05472,
     "end_time": "2021-06-04T13:15:36.131518",
     "exception": false,
     "start_time": "2021-06-04T13:15:36.076798",
     "status": "completed"
    },
    "tags": []
   },
   "source": [
    "Read CSV files using pandas and openpyxl. And then, just take a look."
   ]
  },
  {
   "cell_type": "code",
   "execution_count": 8,
   "id": "military-elimination",
   "metadata": {
    "execution": {
     "iopub.execute_input": "2021-06-04T13:15:36.242263Z",
     "iopub.status.busy": "2021-06-04T13:15:36.241402Z",
     "iopub.status.idle": "2021-06-04T13:15:39.154724Z",
     "shell.execute_reply": "2021-06-04T13:15:39.153997Z",
     "shell.execute_reply.started": "2021-06-04T12:37:44.273605Z"
    },
    "papermill": {
     "duration": 2.970489,
     "end_time": "2021-06-04T13:15:39.154911",
     "exception": false,
     "start_time": "2021-06-04T13:15:36.184422",
     "status": "completed"
    },
    "tags": []
   },
   "outputs": [
    {
     "data": {
      "text/html": [
       "<div>\n",
       "<style scoped>\n",
       "    .dataframe tbody tr th:only-of-type {\n",
       "        vertical-align: middle;\n",
       "    }\n",
       "\n",
       "    .dataframe tbody tr th {\n",
       "        vertical-align: top;\n",
       "    }\n",
       "\n",
       "    .dataframe thead th {\n",
       "        text-align: right;\n",
       "    }\n",
       "</style>\n",
       "<table border=\"1\" class=\"dataframe\">\n",
       "  <thead>\n",
       "    <tr style=\"text-align: right;\">\n",
       "      <th></th>\n",
       "      <th>Restaurant</th>\n",
       "      <th>Location</th>\n",
       "      <th>Cuisines</th>\n",
       "      <th>Average_Cost</th>\n",
       "      <th>Minimum_Order</th>\n",
       "      <th>Rating</th>\n",
       "      <th>Votes</th>\n",
       "      <th>Reviews</th>\n",
       "      <th>Delivery_Time</th>\n",
       "    </tr>\n",
       "  </thead>\n",
       "  <tbody>\n",
       "    <tr>\n",
       "      <th>0</th>\n",
       "      <td>ID_6321</td>\n",
       "      <td>FTI College, Law College Road, Pune</td>\n",
       "      <td>Fast Food, Rolls, Burger, Salad, Wraps</td>\n",
       "      <td>₹200</td>\n",
       "      <td>₹50</td>\n",
       "      <td>3.5</td>\n",
       "      <td>12</td>\n",
       "      <td>4</td>\n",
       "      <td>30 minutes</td>\n",
       "    </tr>\n",
       "    <tr>\n",
       "      <th>1</th>\n",
       "      <td>ID_2882</td>\n",
       "      <td>Sector 3, Marathalli</td>\n",
       "      <td>Ice Cream, Desserts</td>\n",
       "      <td>₹100</td>\n",
       "      <td>₹50</td>\n",
       "      <td>3.5</td>\n",
       "      <td>11</td>\n",
       "      <td>4</td>\n",
       "      <td>30 minutes</td>\n",
       "    </tr>\n",
       "    <tr>\n",
       "      <th>2</th>\n",
       "      <td>ID_1595</td>\n",
       "      <td>Mumbai Central</td>\n",
       "      <td>Italian, Street Food, Fast Food</td>\n",
       "      <td>₹150</td>\n",
       "      <td>₹50</td>\n",
       "      <td>3.6</td>\n",
       "      <td>99</td>\n",
       "      <td>30</td>\n",
       "      <td>65 minutes</td>\n",
       "    </tr>\n",
       "    <tr>\n",
       "      <th>3</th>\n",
       "      <td>ID_5929</td>\n",
       "      <td>Sector 1, Noida</td>\n",
       "      <td>Mughlai, North Indian, Chinese</td>\n",
       "      <td>₹250</td>\n",
       "      <td>₹99</td>\n",
       "      <td>3.7</td>\n",
       "      <td>176</td>\n",
       "      <td>95</td>\n",
       "      <td>30 minutes</td>\n",
       "    </tr>\n",
       "    <tr>\n",
       "      <th>4</th>\n",
       "      <td>ID_6123</td>\n",
       "      <td>Rmz Centennial, I Gate, Whitefield</td>\n",
       "      <td>Cafe, Beverages</td>\n",
       "      <td>₹200</td>\n",
       "      <td>₹99</td>\n",
       "      <td>3.2</td>\n",
       "      <td>521</td>\n",
       "      <td>235</td>\n",
       "      <td>65 minutes</td>\n",
       "    </tr>\n",
       "  </tbody>\n",
       "</table>\n",
       "</div>"
      ],
      "text/plain": [
       "  Restaurant                             Location  \\\n",
       "0    ID_6321  FTI College, Law College Road, Pune   \n",
       "1    ID_2882                 Sector 3, Marathalli   \n",
       "2    ID_1595                       Mumbai Central   \n",
       "3    ID_5929                      Sector 1, Noida   \n",
       "4    ID_6123   Rmz Centennial, I Gate, Whitefield   \n",
       "\n",
       "                                 Cuisines Average_Cost Minimum_Order Rating  \\\n",
       "0  Fast Food, Rolls, Burger, Salad, Wraps         ₹200           ₹50    3.5   \n",
       "1                     Ice Cream, Desserts         ₹100           ₹50    3.5   \n",
       "2         Italian, Street Food, Fast Food         ₹150           ₹50    3.6   \n",
       "3          Mughlai, North Indian, Chinese         ₹250           ₹99    3.7   \n",
       "4                         Cafe, Beverages         ₹200           ₹99    3.2   \n",
       "\n",
       "  Votes Reviews Delivery_Time  \n",
       "0    12       4    30 minutes  \n",
       "1    11       4    30 minutes  \n",
       "2    99      30    65 minutes  \n",
       "3   176      95    30 minutes  \n",
       "4   521     235    65 minutes  "
      ]
     },
     "execution_count": 8,
     "metadata": {},
     "output_type": "execute_result"
    }
   ],
   "source": [
    "df = pd.read_excel(TRAIN_PATH)\n",
    "df.head()"
   ]
  },
  {
   "cell_type": "code",
   "execution_count": 9,
   "id": "bronze-declaration",
   "metadata": {
    "execution": {
     "iopub.execute_input": "2021-06-04T13:15:39.297172Z",
     "iopub.status.busy": "2021-06-04T13:15:39.285085Z",
     "iopub.status.idle": "2021-06-04T13:15:39.311188Z",
     "shell.execute_reply": "2021-06-04T13:15:39.310249Z",
     "shell.execute_reply.started": "2021-06-04T12:37:45.93383Z"
    },
    "papermill": {
     "duration": 0.099524,
     "end_time": "2021-06-04T13:15:39.311412",
     "exception": false,
     "start_time": "2021-06-04T13:15:39.211888",
     "status": "completed"
    },
    "tags": []
   },
   "outputs": [
    {
     "name": "stdout",
     "output_type": "stream",
     "text": [
      "<class 'pandas.core.frame.DataFrame'>\n",
      "RangeIndex: 11094 entries, 0 to 11093\n",
      "Data columns (total 9 columns):\n",
      " #   Column         Non-Null Count  Dtype \n",
      "---  ------         --------------  ----- \n",
      " 0   Restaurant     11094 non-null  object\n",
      " 1   Location       11094 non-null  object\n",
      " 2   Cuisines       11094 non-null  object\n",
      " 3   Average_Cost   11094 non-null  object\n",
      " 4   Minimum_Order  11094 non-null  object\n",
      " 5   Rating         11094 non-null  object\n",
      " 6   Votes          11094 non-null  object\n",
      " 7   Reviews        11094 non-null  object\n",
      " 8   Delivery_Time  11094 non-null  object\n",
      "dtypes: object(9)\n",
      "memory usage: 780.2+ KB\n"
     ]
    }
   ],
   "source": [
    "df.info()"
   ]
  },
  {
   "cell_type": "code",
   "execution_count": 10,
   "id": "greek-manor",
   "metadata": {
    "execution": {
     "iopub.execute_input": "2021-06-04T13:15:39.434320Z",
     "iopub.status.busy": "2021-06-04T13:15:39.433498Z",
     "iopub.status.idle": "2021-06-04T13:15:39.531444Z",
     "shell.execute_reply": "2021-06-04T13:15:39.530753Z",
     "shell.execute_reply.started": "2021-06-04T12:37:45.957196Z"
    },
    "papermill": {
     "duration": 0.164063,
     "end_time": "2021-06-04T13:15:39.531646",
     "exception": false,
     "start_time": "2021-06-04T13:15:39.367583",
     "status": "completed"
    },
    "tags": []
   },
   "outputs": [
    {
     "data": {
      "text/html": [
       "<div>\n",
       "<style scoped>\n",
       "    .dataframe tbody tr th:only-of-type {\n",
       "        vertical-align: middle;\n",
       "    }\n",
       "\n",
       "    .dataframe tbody tr th {\n",
       "        vertical-align: top;\n",
       "    }\n",
       "\n",
       "    .dataframe thead th {\n",
       "        text-align: right;\n",
       "    }\n",
       "</style>\n",
       "<table border=\"1\" class=\"dataframe\">\n",
       "  <thead>\n",
       "    <tr style=\"text-align: right;\">\n",
       "      <th></th>\n",
       "      <th>Restaurant</th>\n",
       "      <th>Location</th>\n",
       "      <th>Cuisines</th>\n",
       "      <th>Average_Cost</th>\n",
       "      <th>Minimum_Order</th>\n",
       "      <th>Rating</th>\n",
       "      <th>Votes</th>\n",
       "      <th>Reviews</th>\n",
       "      <th>Delivery_Time</th>\n",
       "    </tr>\n",
       "  </thead>\n",
       "  <tbody>\n",
       "    <tr>\n",
       "      <th>count</th>\n",
       "      <td>11094</td>\n",
       "      <td>11094</td>\n",
       "      <td>11094</td>\n",
       "      <td>11094</td>\n",
       "      <td>11094</td>\n",
       "      <td>11094</td>\n",
       "      <td>11094</td>\n",
       "      <td>11094</td>\n",
       "      <td>11094</td>\n",
       "    </tr>\n",
       "    <tr>\n",
       "      <th>unique</th>\n",
       "      <td>7480</td>\n",
       "      <td>35</td>\n",
       "      <td>2179</td>\n",
       "      <td>26</td>\n",
       "      <td>18</td>\n",
       "      <td>33</td>\n",
       "      <td>1103</td>\n",
       "      <td>761</td>\n",
       "      <td>7</td>\n",
       "    </tr>\n",
       "    <tr>\n",
       "      <th>top</th>\n",
       "      <td>ID_7184</td>\n",
       "      <td>Mico Layout, Stage 2, BTM Layout,Bangalore</td>\n",
       "      <td>North Indian</td>\n",
       "      <td>₹200</td>\n",
       "      <td>₹50</td>\n",
       "      <td>-</td>\n",
       "      <td>-</td>\n",
       "      <td>-</td>\n",
       "      <td>30 minutes</td>\n",
       "    </tr>\n",
       "    <tr>\n",
       "      <th>freq</th>\n",
       "      <td>22</td>\n",
       "      <td>947</td>\n",
       "      <td>850</td>\n",
       "      <td>3241</td>\n",
       "      <td>10118</td>\n",
       "      <td>1191</td>\n",
       "      <td>2074</td>\n",
       "      <td>2312</td>\n",
       "      <td>7406</td>\n",
       "    </tr>\n",
       "  </tbody>\n",
       "</table>\n",
       "</div>"
      ],
      "text/plain": [
       "       Restaurant                                    Location      Cuisines  \\\n",
       "count       11094                                       11094         11094   \n",
       "unique       7480                                          35          2179   \n",
       "top       ID_7184  Mico Layout, Stage 2, BTM Layout,Bangalore  North Indian   \n",
       "freq           22                                         947           850   \n",
       "\n",
       "       Average_Cost Minimum_Order Rating  Votes Reviews Delivery_Time  \n",
       "count         11094         11094  11094  11094   11094         11094  \n",
       "unique           26            18     33   1103     761             7  \n",
       "top            ₹200           ₹50      -      -       -    30 minutes  \n",
       "freq           3241         10118   1191   2074    2312          7406  "
      ]
     },
     "execution_count": 10,
     "metadata": {},
     "output_type": "execute_result"
    }
   ],
   "source": [
    "df.describe()"
   ]
  },
  {
   "cell_type": "markdown",
   "id": "laden-maintenance",
   "metadata": {
    "papermill": {
     "duration": 0.051987,
     "end_time": "2021-06-04T13:15:39.637773",
     "exception": false,
     "start_time": "2021-06-04T13:15:39.585786",
     "status": "completed"
    },
    "tags": []
   },
   "source": [
    "Unlike some csv files, this xlsx files contains all values as `object`. To predict with machine-learning, we need to convert this value to numeric values like `int`, or `float`."
   ]
  },
  {
   "cell_type": "code",
   "execution_count": 11,
   "id": "structural-creature",
   "metadata": {
    "execution": {
     "iopub.execute_input": "2021-06-04T13:15:39.752552Z",
     "iopub.status.busy": "2021-06-04T13:15:39.751638Z",
     "iopub.status.idle": "2021-06-04T13:15:39.755048Z",
     "shell.execute_reply": "2021-06-04T13:15:39.755598Z",
     "shell.execute_reply.started": "2021-06-04T12:37:46.03285Z"
    },
    "papermill": {
     "duration": 0.065496,
     "end_time": "2021-06-04T13:15:39.755815",
     "exception": false,
     "start_time": "2021-06-04T13:15:39.690319",
     "status": "completed"
    },
    "tags": []
   },
   "outputs": [
    {
     "data": {
      "text/plain": [
       "0        ID_6321\n",
       "1        ID_2882\n",
       "2        ID_1595\n",
       "3        ID_5929\n",
       "4        ID_6123\n",
       "          ...   \n",
       "11089    ID_8067\n",
       "11090    ID_4620\n",
       "11091    ID_3392\n",
       "11092    ID_4115\n",
       "11093    ID_4417\n",
       "Name: Restaurant, Length: 11094, dtype: object"
      ]
     },
     "execution_count": 11,
     "metadata": {},
     "output_type": "execute_result"
    }
   ],
   "source": [
    "df[\"Restaurant\"]"
   ]
  },
  {
   "cell_type": "markdown",
   "id": "serious-indonesian",
   "metadata": {
    "papermill": {
     "duration": 0.052156,
     "end_time": "2021-06-04T13:15:39.861096",
     "exception": false,
     "start_time": "2021-06-04T13:15:39.808940",
     "status": "completed"
    },
    "tags": []
   },
   "source": [
    "`Restaurant` column is about the ID of the restaurants. Because it doesn't look useful that much, I will drop this column."
   ]
  },
  {
   "cell_type": "code",
   "execution_count": 12,
   "id": "competitive-cardiff",
   "metadata": {
    "execution": {
     "iopub.execute_input": "2021-06-04T13:15:39.972025Z",
     "iopub.status.busy": "2021-06-04T13:15:39.971246Z",
     "iopub.status.idle": "2021-06-04T13:15:39.979597Z",
     "shell.execute_reply": "2021-06-04T13:15:39.980217Z",
     "shell.execute_reply.started": "2021-06-04T12:37:46.042913Z"
    },
    "papermill": {
     "duration": 0.066068,
     "end_time": "2021-06-04T13:15:39.980448",
     "exception": false,
     "start_time": "2021-06-04T13:15:39.914380",
     "status": "completed"
    },
    "tags": []
   },
   "outputs": [
    {
     "data": {
      "text/plain": [
       "0        FTI College, Law College Road, Pune\n",
       "1                       Sector 3, Marathalli\n",
       "2                             Mumbai Central\n",
       "3                            Sector 1, Noida\n",
       "4         Rmz Centennial, I Gate, Whitefield\n",
       "                        ...                 \n",
       "11089          BTM Layout 1, Electronic City\n",
       "11090                       Sector 14, Noida\n",
       "11091                               Majestic\n",
       "11092                   Sector 3, Marathalli\n",
       "11093                     Sector 63A,Gurgaon\n",
       "Name: Location, Length: 11094, dtype: object"
      ]
     },
     "execution_count": 12,
     "metadata": {},
     "output_type": "execute_result"
    }
   ],
   "source": [
    "df[\"Location\"]"
   ]
  },
  {
   "cell_type": "markdown",
   "id": "looking-travel",
   "metadata": {
    "papermill": {
     "duration": 0.055053,
     "end_time": "2021-06-04T13:15:40.092955",
     "exception": false,
     "start_time": "2021-06-04T13:15:40.037902",
     "status": "completed"
    },
    "tags": []
   },
   "source": [
    "`Location` column is about the location information with words and commas. For more details, Lets see the unique value."
   ]
  },
  {
   "cell_type": "code",
   "execution_count": 13,
   "id": "official-shepherd",
   "metadata": {
    "execution": {
     "iopub.execute_input": "2021-06-04T13:15:40.214406Z",
     "iopub.status.busy": "2021-06-04T13:15:40.213321Z",
     "iopub.status.idle": "2021-06-04T13:15:40.225663Z",
     "shell.execute_reply": "2021-06-04T13:15:40.226236Z",
     "shell.execute_reply.started": "2021-06-04T12:37:46.059504Z"
    },
    "papermill": {
     "duration": 0.075967,
     "end_time": "2021-06-04T13:15:40.226503",
     "exception": false,
     "start_time": "2021-06-04T13:15:40.150536",
     "status": "completed"
    },
    "tags": []
   },
   "outputs": [
    {
     "data": {
      "text/plain": [
       "Mico Layout, Stage 2, BTM Layout,Bangalore          947\n",
       "D-Block, Sector 63, Noida                           806\n",
       "Sector 1, Noida                                     791\n",
       "FTI College, Law College Road, Pune                 584\n",
       "Delhi University-GTB Nagar                          545\n",
       "Laxman Vihar Industrial Area, Sector 3A, Gurgoan    493\n",
       "Sector 14, Noida                                    489\n",
       "Delhi Administration Flats, Timarpur                472\n",
       "Mumbai Central                                      459\n",
       "Rmz Centennial, I Gate, Whitefield                  457\n",
       "Delhi High Court, India Gate                        411\n",
       "MG Road, Pune                                       402\n",
       "Nathan Road, Mangaldas Road, Pune                   372\n",
       "Sandhurst Road, Mumbai CST Area                     370\n",
       "Sector 3, Marathalli                                366\n",
       "Majestic                                            334\n",
       "Delhi Cantt.                                        326\n",
       "Yerawada, Pune, Maharashtra                         307\n",
       "Dockyard Road, Mumbai CST Area                      291\n",
       "Babarpur, New Delhi, Delhi                          282\n",
       "Pune University                                     278\n",
       "Sector 63A,Gurgaon                                  260\n",
       "Moulali, Kolkata                                    137\n",
       "Chandni Chowk, Kolkata                              126\n",
       "Tejas Nagar Colony, Wadala West, Mumbai             109\n",
       "Raja Bazar, Kolkata                                 108\n",
       "Tiretti, Kolkata                                     96\n",
       "Hyderabad Public School, Begumpet                    81\n",
       "Gora Bazar, Rajbari, North Dumdum, Kolkata           79\n",
       "Noorkhan Bazaar, Malakpet, Hyderabad                 68\n",
       "Musi Nagar, Malakpet, Hyderabad                      68\n",
       "Panjetan Colony, Malakpet, Hyderabad                 56\n",
       "Chatta Bazaar, Malakpet, Hyderabad                   54\n",
       "Jaya Nagar, Saidabad, Hyderabad                      48\n",
       "BTM Layout 1, Electronic City                        22\n",
       "Name: Location, dtype: int64"
      ]
     },
     "execution_count": 13,
     "metadata": {},
     "output_type": "execute_result"
    }
   ],
   "source": [
    "df[\"Location\"].value_counts()"
   ]
  },
  {
   "cell_type": "markdown",
   "id": "exotic-toyota",
   "metadata": {
    "papermill": {
     "duration": 0.052391,
     "end_time": "2021-06-04T13:15:40.332870",
     "exception": false,
     "start_time": "2021-06-04T13:15:40.280479",
     "status": "completed"
    },
    "tags": []
   },
   "source": [
    "There are only 35 locations in `Location` column. Some parent address like `Kolkata` or `Pune` appears more that one time. But just let them all as different classes. At here, We can use `One-hot Encoding`."
   ]
  },
  {
   "cell_type": "code",
   "execution_count": 14,
   "id": "satisfactory-sphere",
   "metadata": {
    "execution": {
     "iopub.execute_input": "2021-06-04T13:15:40.445256Z",
     "iopub.status.busy": "2021-06-04T13:15:40.444092Z",
     "iopub.status.idle": "2021-06-04T13:15:40.482567Z",
     "shell.execute_reply": "2021-06-04T13:15:40.481728Z",
     "shell.execute_reply.started": "2021-06-04T12:37:46.078044Z"
    },
    "papermill": {
     "duration": 0.095304,
     "end_time": "2021-06-04T13:15:40.482745",
     "exception": false,
     "start_time": "2021-06-04T13:15:40.387441",
     "status": "completed"
    },
    "tags": []
   },
   "outputs": [
    {
     "data": {
      "text/html": [
       "<div>\n",
       "<style scoped>\n",
       "    .dataframe tbody tr th:only-of-type {\n",
       "        vertical-align: middle;\n",
       "    }\n",
       "\n",
       "    .dataframe tbody tr th {\n",
       "        vertical-align: top;\n",
       "    }\n",
       "\n",
       "    .dataframe thead th {\n",
       "        text-align: right;\n",
       "    }\n",
       "</style>\n",
       "<table border=\"1\" class=\"dataframe\">\n",
       "  <thead>\n",
       "    <tr style=\"text-align: right;\">\n",
       "      <th></th>\n",
       "      <th>Restaurant</th>\n",
       "      <th>Cuisines</th>\n",
       "      <th>Average_Cost</th>\n",
       "      <th>Minimum_Order</th>\n",
       "      <th>Rating</th>\n",
       "      <th>Votes</th>\n",
       "      <th>Reviews</th>\n",
       "      <th>Delivery_Time</th>\n",
       "      <th>Location_BTM Layout 1, Electronic City</th>\n",
       "      <th>Location_Babarpur, New Delhi, Delhi</th>\n",
       "      <th>...</th>\n",
       "      <th>Location_Raja Bazar, Kolkata</th>\n",
       "      <th>Location_Rmz Centennial, I Gate, Whitefield</th>\n",
       "      <th>Location_Sandhurst Road, Mumbai CST Area</th>\n",
       "      <th>Location_Sector 1, Noida</th>\n",
       "      <th>Location_Sector 14, Noida</th>\n",
       "      <th>Location_Sector 3, Marathalli</th>\n",
       "      <th>Location_Sector 63A,Gurgaon</th>\n",
       "      <th>Location_Tejas Nagar Colony, Wadala West, Mumbai</th>\n",
       "      <th>Location_Tiretti, Kolkata</th>\n",
       "      <th>Location_Yerawada, Pune, Maharashtra</th>\n",
       "    </tr>\n",
       "  </thead>\n",
       "  <tbody>\n",
       "    <tr>\n",
       "      <th>0</th>\n",
       "      <td>ID_6321</td>\n",
       "      <td>Fast Food, Rolls, Burger, Salad, Wraps</td>\n",
       "      <td>₹200</td>\n",
       "      <td>₹50</td>\n",
       "      <td>3.5</td>\n",
       "      <td>12</td>\n",
       "      <td>4</td>\n",
       "      <td>30 minutes</td>\n",
       "      <td>0</td>\n",
       "      <td>0</td>\n",
       "      <td>...</td>\n",
       "      <td>0</td>\n",
       "      <td>0</td>\n",
       "      <td>0</td>\n",
       "      <td>0</td>\n",
       "      <td>0</td>\n",
       "      <td>0</td>\n",
       "      <td>0</td>\n",
       "      <td>0</td>\n",
       "      <td>0</td>\n",
       "      <td>0</td>\n",
       "    </tr>\n",
       "    <tr>\n",
       "      <th>1</th>\n",
       "      <td>ID_2882</td>\n",
       "      <td>Ice Cream, Desserts</td>\n",
       "      <td>₹100</td>\n",
       "      <td>₹50</td>\n",
       "      <td>3.5</td>\n",
       "      <td>11</td>\n",
       "      <td>4</td>\n",
       "      <td>30 minutes</td>\n",
       "      <td>0</td>\n",
       "      <td>0</td>\n",
       "      <td>...</td>\n",
       "      <td>0</td>\n",
       "      <td>0</td>\n",
       "      <td>0</td>\n",
       "      <td>0</td>\n",
       "      <td>0</td>\n",
       "      <td>1</td>\n",
       "      <td>0</td>\n",
       "      <td>0</td>\n",
       "      <td>0</td>\n",
       "      <td>0</td>\n",
       "    </tr>\n",
       "    <tr>\n",
       "      <th>2</th>\n",
       "      <td>ID_1595</td>\n",
       "      <td>Italian, Street Food, Fast Food</td>\n",
       "      <td>₹150</td>\n",
       "      <td>₹50</td>\n",
       "      <td>3.6</td>\n",
       "      <td>99</td>\n",
       "      <td>30</td>\n",
       "      <td>65 minutes</td>\n",
       "      <td>0</td>\n",
       "      <td>0</td>\n",
       "      <td>...</td>\n",
       "      <td>0</td>\n",
       "      <td>0</td>\n",
       "      <td>0</td>\n",
       "      <td>0</td>\n",
       "      <td>0</td>\n",
       "      <td>0</td>\n",
       "      <td>0</td>\n",
       "      <td>0</td>\n",
       "      <td>0</td>\n",
       "      <td>0</td>\n",
       "    </tr>\n",
       "    <tr>\n",
       "      <th>3</th>\n",
       "      <td>ID_5929</td>\n",
       "      <td>Mughlai, North Indian, Chinese</td>\n",
       "      <td>₹250</td>\n",
       "      <td>₹99</td>\n",
       "      <td>3.7</td>\n",
       "      <td>176</td>\n",
       "      <td>95</td>\n",
       "      <td>30 minutes</td>\n",
       "      <td>0</td>\n",
       "      <td>0</td>\n",
       "      <td>...</td>\n",
       "      <td>0</td>\n",
       "      <td>0</td>\n",
       "      <td>0</td>\n",
       "      <td>1</td>\n",
       "      <td>0</td>\n",
       "      <td>0</td>\n",
       "      <td>0</td>\n",
       "      <td>0</td>\n",
       "      <td>0</td>\n",
       "      <td>0</td>\n",
       "    </tr>\n",
       "    <tr>\n",
       "      <th>4</th>\n",
       "      <td>ID_6123</td>\n",
       "      <td>Cafe, Beverages</td>\n",
       "      <td>₹200</td>\n",
       "      <td>₹99</td>\n",
       "      <td>3.2</td>\n",
       "      <td>521</td>\n",
       "      <td>235</td>\n",
       "      <td>65 minutes</td>\n",
       "      <td>0</td>\n",
       "      <td>0</td>\n",
       "      <td>...</td>\n",
       "      <td>0</td>\n",
       "      <td>1</td>\n",
       "      <td>0</td>\n",
       "      <td>0</td>\n",
       "      <td>0</td>\n",
       "      <td>0</td>\n",
       "      <td>0</td>\n",
       "      <td>0</td>\n",
       "      <td>0</td>\n",
       "      <td>0</td>\n",
       "    </tr>\n",
       "  </tbody>\n",
       "</table>\n",
       "<p>5 rows × 43 columns</p>\n",
       "</div>"
      ],
      "text/plain": [
       "  Restaurant                                Cuisines Average_Cost  \\\n",
       "0    ID_6321  Fast Food, Rolls, Burger, Salad, Wraps         ₹200   \n",
       "1    ID_2882                     Ice Cream, Desserts         ₹100   \n",
       "2    ID_1595         Italian, Street Food, Fast Food         ₹150   \n",
       "3    ID_5929          Mughlai, North Indian, Chinese         ₹250   \n",
       "4    ID_6123                         Cafe, Beverages         ₹200   \n",
       "\n",
       "  Minimum_Order Rating Votes Reviews Delivery_Time  \\\n",
       "0           ₹50    3.5    12       4    30 minutes   \n",
       "1           ₹50    3.5    11       4    30 minutes   \n",
       "2           ₹50    3.6    99      30    65 minutes   \n",
       "3           ₹99    3.7   176      95    30 minutes   \n",
       "4           ₹99    3.2   521     235    65 minutes   \n",
       "\n",
       "   Location_BTM Layout 1, Electronic City  \\\n",
       "0                                       0   \n",
       "1                                       0   \n",
       "2                                       0   \n",
       "3                                       0   \n",
       "4                                       0   \n",
       "\n",
       "   Location_Babarpur, New Delhi, Delhi  ...  Location_Raja Bazar, Kolkata  \\\n",
       "0                                    0  ...                             0   \n",
       "1                                    0  ...                             0   \n",
       "2                                    0  ...                             0   \n",
       "3                                    0  ...                             0   \n",
       "4                                    0  ...                             0   \n",
       "\n",
       "   Location_Rmz Centennial, I Gate, Whitefield  \\\n",
       "0                                            0   \n",
       "1                                            0   \n",
       "2                                            0   \n",
       "3                                            0   \n",
       "4                                            1   \n",
       "\n",
       "   Location_Sandhurst Road, Mumbai CST Area  Location_Sector 1, Noida  \\\n",
       "0                                         0                         0   \n",
       "1                                         0                         0   \n",
       "2                                         0                         0   \n",
       "3                                         0                         1   \n",
       "4                                         0                         0   \n",
       "\n",
       "   Location_Sector 14, Noida  Location_Sector 3, Marathalli  \\\n",
       "0                          0                              0   \n",
       "1                          0                              1   \n",
       "2                          0                              0   \n",
       "3                          0                              0   \n",
       "4                          0                              0   \n",
       "\n",
       "   Location_Sector 63A,Gurgaon  \\\n",
       "0                            0   \n",
       "1                            0   \n",
       "2                            0   \n",
       "3                            0   \n",
       "4                            0   \n",
       "\n",
       "   Location_Tejas Nagar Colony, Wadala West, Mumbai  \\\n",
       "0                                                 0   \n",
       "1                                                 0   \n",
       "2                                                 0   \n",
       "3                                                 0   \n",
       "4                                                 0   \n",
       "\n",
       "   Location_Tiretti, Kolkata  Location_Yerawada, Pune, Maharashtra  \n",
       "0                          0                                     0  \n",
       "1                          0                                     0  \n",
       "2                          0                                     0  \n",
       "3                          0                                     0  \n",
       "4                          0                                     0  \n",
       "\n",
       "[5 rows x 43 columns]"
      ]
     },
     "execution_count": 14,
     "metadata": {},
     "output_type": "execute_result"
    }
   ],
   "source": [
    "df_location = pd.get_dummies(df, columns=[\"Location\"])\n",
    "df_location.head()"
   ]
  },
  {
   "cell_type": "code",
   "execution_count": 15,
   "id": "racial-billion",
   "metadata": {
    "execution": {
     "iopub.execute_input": "2021-06-04T13:15:40.602485Z",
     "iopub.status.busy": "2021-06-04T13:15:40.601428Z",
     "iopub.status.idle": "2021-06-04T13:15:40.606329Z",
     "shell.execute_reply": "2021-06-04T13:15:40.605649Z",
     "shell.execute_reply.started": "2021-06-04T12:37:46.120061Z"
    },
    "papermill": {
     "duration": 0.067536,
     "end_time": "2021-06-04T13:15:40.606530",
     "exception": false,
     "start_time": "2021-06-04T13:15:40.538994",
     "status": "completed"
    },
    "tags": []
   },
   "outputs": [
    {
     "data": {
      "text/plain": [
       "Index(['Restaurant', 'Cuisines', 'Average_Cost', 'Minimum_Order', 'Rating',\n",
       "       'Votes', 'Reviews', 'Delivery_Time',\n",
       "       'Location_BTM Layout 1, Electronic City',\n",
       "       'Location_Babarpur, New Delhi, Delhi',\n",
       "       'Location_Chandni Chowk, Kolkata',\n",
       "       'Location_Chatta Bazaar, Malakpet, Hyderabad',\n",
       "       'Location_D-Block, Sector 63, Noida',\n",
       "       'Location_Delhi Administration Flats, Timarpur',\n",
       "       'Location_Delhi Cantt.', 'Location_Delhi High Court, India Gate',\n",
       "       'Location_Delhi University-GTB Nagar',\n",
       "       'Location_Dockyard Road, Mumbai CST Area',\n",
       "       'Location_FTI College, Law College Road, Pune',\n",
       "       'Location_Gora Bazar, Rajbari, North Dumdum, Kolkata',\n",
       "       'Location_Hyderabad Public School, Begumpet',\n",
       "       'Location_Jaya Nagar, Saidabad, Hyderabad',\n",
       "       'Location_Laxman Vihar Industrial Area, Sector 3A, Gurgoan',\n",
       "       'Location_MG Road, Pune', 'Location_Majestic',\n",
       "       'Location_Mico Layout, Stage 2, BTM Layout,Bangalore',\n",
       "       'Location_Moulali, Kolkata', 'Location_Mumbai Central',\n",
       "       'Location_Musi Nagar, Malakpet, Hyderabad',\n",
       "       'Location_Nathan Road, Mangaldas Road, Pune',\n",
       "       'Location_Noorkhan Bazaar, Malakpet, Hyderabad',\n",
       "       'Location_Panjetan Colony, Malakpet, Hyderabad',\n",
       "       'Location_Pune University', 'Location_Raja Bazar, Kolkata',\n",
       "       'Location_Rmz Centennial, I Gate, Whitefield',\n",
       "       'Location_Sandhurst Road, Mumbai CST Area', 'Location_Sector 1, Noida',\n",
       "       'Location_Sector 14, Noida', 'Location_Sector 3, Marathalli',\n",
       "       'Location_Sector 63A,Gurgaon',\n",
       "       'Location_Tejas Nagar Colony, Wadala West, Mumbai',\n",
       "       'Location_Tiretti, Kolkata', 'Location_Yerawada, Pune, Maharashtra'],\n",
       "      dtype='object')"
      ]
     },
     "execution_count": 15,
     "metadata": {},
     "output_type": "execute_result"
    }
   ],
   "source": [
    "df_location.columns"
   ]
  },
  {
   "cell_type": "markdown",
   "id": "presidential-arthur",
   "metadata": {
    "papermill": {
     "duration": 0.05395,
     "end_time": "2021-06-04T13:15:40.715537",
     "exception": false,
     "start_time": "2021-06-04T13:15:40.661587",
     "status": "completed"
    },
    "tags": []
   },
   "source": [
    "We can see that the `Location` columns seperate into its values and only get 0 or 1 values. 35 columns are newly added because `Location` column has 35 different unique values."
   ]
  },
  {
   "cell_type": "code",
   "execution_count": 16,
   "id": "reflected-collection",
   "metadata": {
    "execution": {
     "iopub.execute_input": "2021-06-04T13:15:40.833711Z",
     "iopub.status.busy": "2021-06-04T13:15:40.832683Z",
     "iopub.status.idle": "2021-06-04T13:15:40.837407Z",
     "shell.execute_reply": "2021-06-04T13:15:40.836707Z",
     "shell.execute_reply.started": "2021-06-04T12:37:46.127894Z"
    },
    "papermill": {
     "duration": 0.067722,
     "end_time": "2021-06-04T13:15:40.837569",
     "exception": false,
     "start_time": "2021-06-04T13:15:40.769847",
     "status": "completed"
    },
    "tags": []
   },
   "outputs": [
    {
     "data": {
      "text/plain": [
       "0        Fast Food, Rolls, Burger, Salad, Wraps\n",
       "1                           Ice Cream, Desserts\n",
       "2               Italian, Street Food, Fast Food\n",
       "3                Mughlai, North Indian, Chinese\n",
       "4                               Cafe, Beverages\n",
       "                          ...                  \n",
       "11089      Tibetan, Chinese, Continental, Momos\n",
       "11090                                 Fast Food\n",
       "11091       South Indian, Chinese, North Indian\n",
       "11092                              North Indian\n",
       "11093                              North Indian\n",
       "Name: Cuisines, Length: 11094, dtype: object"
      ]
     },
     "execution_count": 16,
     "metadata": {},
     "output_type": "execute_result"
    }
   ],
   "source": [
    "df[\"Cuisines\"]"
   ]
  },
  {
   "cell_type": "markdown",
   "id": "advisory-shirt",
   "metadata": {
    "papermill": {
     "duration": 0.058687,
     "end_time": "2021-06-04T13:15:40.951716",
     "exception": false,
     "start_time": "2021-06-04T13:15:40.893029",
     "status": "completed"
    },
    "tags": []
   },
   "source": [
    "Cuisines are the collection of the foods they sell. Some restaurants have many kinds of cuisines, and some are not. Like `Location` Column, we can just simply make `One-hot encoding` from here. But think about:"
   ]
  },
  {
   "cell_type": "markdown",
   "id": "positive-closer",
   "metadata": {
    "papermill": {
     "duration": 0.05511,
     "end_time": "2021-06-04T13:15:41.062351",
     "exception": false,
     "start_time": "2021-06-04T13:15:41.007241",
     "status": "completed"
    },
    "tags": []
   },
   "source": [
    "Ice cream -> [1, 0, 0]\n",
    "\n",
    "Desserts -> [0, 1, 0]\n",
    "\n",
    "Ice cream, Desserts -> [0, 0, 1]"
   ]
  },
  {
   "cell_type": "markdown",
   "id": "guided-fitness",
   "metadata": {
    "papermill": {
     "duration": 0.053789,
     "end_time": "2021-06-04T13:15:41.170543",
     "exception": false,
     "start_time": "2021-06-04T13:15:41.116754",
     "status": "completed"
    },
    "tags": []
   },
   "source": [
    "It may over-generate the columns with encoder. So, How about this methods?"
   ]
  },
  {
   "cell_type": "markdown",
   "id": "lesbian-occupation",
   "metadata": {
    "papermill": {
     "duration": 0.055597,
     "end_time": "2021-06-04T13:15:41.282091",
     "exception": false,
     "start_time": "2021-06-04T13:15:41.226494",
     "status": "completed"
    },
    "tags": []
   },
   "source": [
    "ce cream -> [1, 0]\n",
    "\n",
    "Desserts -> [0, 1]\n",
    "\n",
    "Ice cream, Desserts -> [1, 1]"
   ]
  },
  {
   "cell_type": "markdown",
   "id": "fossil-watts",
   "metadata": {
    "papermill": {
     "duration": 0.056032,
     "end_time": "2021-06-04T13:15:41.394962",
     "exception": false,
     "start_time": "2021-06-04T13:15:41.338930",
     "status": "completed"
    },
    "tags": []
   },
   "source": [
    "For this `multi-labeled One-hot Encoding`, we need to process commas at strings while makeing dummies"
   ]
  },
  {
   "cell_type": "code",
   "execution_count": 17,
   "id": "loving-graphic",
   "metadata": {
    "execution": {
     "iopub.execute_input": "2021-06-04T13:15:41.551511Z",
     "iopub.status.busy": "2021-06-04T13:15:41.538934Z",
     "iopub.status.idle": "2021-06-04T13:15:43.273751Z",
     "shell.execute_reply": "2021-06-04T13:15:43.273084Z",
     "shell.execute_reply.started": "2021-06-04T12:37:46.144086Z"
    },
    "papermill": {
     "duration": 1.821971,
     "end_time": "2021-06-04T13:15:43.273914",
     "exception": false,
     "start_time": "2021-06-04T13:15:41.451943",
     "status": "completed"
    },
    "tags": []
   },
   "outputs": [
    {
     "data": {
      "text/html": [
       "<div>\n",
       "<style scoped>\n",
       "    .dataframe tbody tr th:only-of-type {\n",
       "        vertical-align: middle;\n",
       "    }\n",
       "\n",
       "    .dataframe tbody tr th {\n",
       "        vertical-align: top;\n",
       "    }\n",
       "\n",
       "    .dataframe thead th {\n",
       "        text-align: right;\n",
       "    }\n",
       "</style>\n",
       "<table border=\"1\" class=\"dataframe\">\n",
       "  <thead>\n",
       "    <tr style=\"text-align: right;\">\n",
       "      <th></th>\n",
       "      <th>Afghan</th>\n",
       "      <th>African</th>\n",
       "      <th>American</th>\n",
       "      <th>Andhra</th>\n",
       "      <th>Arabian</th>\n",
       "      <th>Asian</th>\n",
       "      <th>Assamese</th>\n",
       "      <th>Awadhi</th>\n",
       "      <th>BBQ</th>\n",
       "      <th>Bakery</th>\n",
       "      <th>...</th>\n",
       "      <th>Street Food</th>\n",
       "      <th>Sushi</th>\n",
       "      <th>Tamil</th>\n",
       "      <th>Tea</th>\n",
       "      <th>Tex-Mex</th>\n",
       "      <th>Thai</th>\n",
       "      <th>Tibetan</th>\n",
       "      <th>Turkish</th>\n",
       "      <th>Vietnamese</th>\n",
       "      <th>Wraps</th>\n",
       "    </tr>\n",
       "  </thead>\n",
       "  <tbody>\n",
       "    <tr>\n",
       "      <th>0</th>\n",
       "      <td>0</td>\n",
       "      <td>0</td>\n",
       "      <td>0</td>\n",
       "      <td>0</td>\n",
       "      <td>0</td>\n",
       "      <td>0</td>\n",
       "      <td>0</td>\n",
       "      <td>0</td>\n",
       "      <td>0</td>\n",
       "      <td>0</td>\n",
       "      <td>...</td>\n",
       "      <td>0</td>\n",
       "      <td>0</td>\n",
       "      <td>0</td>\n",
       "      <td>0</td>\n",
       "      <td>0</td>\n",
       "      <td>0</td>\n",
       "      <td>0</td>\n",
       "      <td>0</td>\n",
       "      <td>0</td>\n",
       "      <td>1</td>\n",
       "    </tr>\n",
       "    <tr>\n",
       "      <th>1</th>\n",
       "      <td>0</td>\n",
       "      <td>0</td>\n",
       "      <td>0</td>\n",
       "      <td>0</td>\n",
       "      <td>0</td>\n",
       "      <td>0</td>\n",
       "      <td>0</td>\n",
       "      <td>0</td>\n",
       "      <td>0</td>\n",
       "      <td>0</td>\n",
       "      <td>...</td>\n",
       "      <td>0</td>\n",
       "      <td>0</td>\n",
       "      <td>0</td>\n",
       "      <td>0</td>\n",
       "      <td>0</td>\n",
       "      <td>0</td>\n",
       "      <td>0</td>\n",
       "      <td>0</td>\n",
       "      <td>0</td>\n",
       "      <td>0</td>\n",
       "    </tr>\n",
       "    <tr>\n",
       "      <th>2</th>\n",
       "      <td>0</td>\n",
       "      <td>0</td>\n",
       "      <td>0</td>\n",
       "      <td>0</td>\n",
       "      <td>0</td>\n",
       "      <td>0</td>\n",
       "      <td>0</td>\n",
       "      <td>0</td>\n",
       "      <td>0</td>\n",
       "      <td>0</td>\n",
       "      <td>...</td>\n",
       "      <td>1</td>\n",
       "      <td>0</td>\n",
       "      <td>0</td>\n",
       "      <td>0</td>\n",
       "      <td>0</td>\n",
       "      <td>0</td>\n",
       "      <td>0</td>\n",
       "      <td>0</td>\n",
       "      <td>0</td>\n",
       "      <td>0</td>\n",
       "    </tr>\n",
       "    <tr>\n",
       "      <th>3</th>\n",
       "      <td>0</td>\n",
       "      <td>0</td>\n",
       "      <td>0</td>\n",
       "      <td>0</td>\n",
       "      <td>0</td>\n",
       "      <td>0</td>\n",
       "      <td>0</td>\n",
       "      <td>0</td>\n",
       "      <td>0</td>\n",
       "      <td>0</td>\n",
       "      <td>...</td>\n",
       "      <td>0</td>\n",
       "      <td>0</td>\n",
       "      <td>0</td>\n",
       "      <td>0</td>\n",
       "      <td>0</td>\n",
       "      <td>0</td>\n",
       "      <td>0</td>\n",
       "      <td>0</td>\n",
       "      <td>0</td>\n",
       "      <td>0</td>\n",
       "    </tr>\n",
       "    <tr>\n",
       "      <th>4</th>\n",
       "      <td>0</td>\n",
       "      <td>0</td>\n",
       "      <td>0</td>\n",
       "      <td>0</td>\n",
       "      <td>0</td>\n",
       "      <td>0</td>\n",
       "      <td>0</td>\n",
       "      <td>0</td>\n",
       "      <td>0</td>\n",
       "      <td>0</td>\n",
       "      <td>...</td>\n",
       "      <td>0</td>\n",
       "      <td>0</td>\n",
       "      <td>0</td>\n",
       "      <td>0</td>\n",
       "      <td>0</td>\n",
       "      <td>0</td>\n",
       "      <td>0</td>\n",
       "      <td>0</td>\n",
       "      <td>0</td>\n",
       "      <td>0</td>\n",
       "    </tr>\n",
       "    <tr>\n",
       "      <th>...</th>\n",
       "      <td>...</td>\n",
       "      <td>...</td>\n",
       "      <td>...</td>\n",
       "      <td>...</td>\n",
       "      <td>...</td>\n",
       "      <td>...</td>\n",
       "      <td>...</td>\n",
       "      <td>...</td>\n",
       "      <td>...</td>\n",
       "      <td>...</td>\n",
       "      <td>...</td>\n",
       "      <td>...</td>\n",
       "      <td>...</td>\n",
       "      <td>...</td>\n",
       "      <td>...</td>\n",
       "      <td>...</td>\n",
       "      <td>...</td>\n",
       "      <td>...</td>\n",
       "      <td>...</td>\n",
       "      <td>...</td>\n",
       "      <td>...</td>\n",
       "    </tr>\n",
       "    <tr>\n",
       "      <th>11089</th>\n",
       "      <td>0</td>\n",
       "      <td>0</td>\n",
       "      <td>0</td>\n",
       "      <td>0</td>\n",
       "      <td>0</td>\n",
       "      <td>0</td>\n",
       "      <td>0</td>\n",
       "      <td>0</td>\n",
       "      <td>0</td>\n",
       "      <td>0</td>\n",
       "      <td>...</td>\n",
       "      <td>0</td>\n",
       "      <td>0</td>\n",
       "      <td>0</td>\n",
       "      <td>0</td>\n",
       "      <td>0</td>\n",
       "      <td>0</td>\n",
       "      <td>1</td>\n",
       "      <td>0</td>\n",
       "      <td>0</td>\n",
       "      <td>0</td>\n",
       "    </tr>\n",
       "    <tr>\n",
       "      <th>11090</th>\n",
       "      <td>0</td>\n",
       "      <td>0</td>\n",
       "      <td>0</td>\n",
       "      <td>0</td>\n",
       "      <td>0</td>\n",
       "      <td>0</td>\n",
       "      <td>0</td>\n",
       "      <td>0</td>\n",
       "      <td>0</td>\n",
       "      <td>0</td>\n",
       "      <td>...</td>\n",
       "      <td>0</td>\n",
       "      <td>0</td>\n",
       "      <td>0</td>\n",
       "      <td>0</td>\n",
       "      <td>0</td>\n",
       "      <td>0</td>\n",
       "      <td>0</td>\n",
       "      <td>0</td>\n",
       "      <td>0</td>\n",
       "      <td>0</td>\n",
       "    </tr>\n",
       "    <tr>\n",
       "      <th>11091</th>\n",
       "      <td>0</td>\n",
       "      <td>0</td>\n",
       "      <td>0</td>\n",
       "      <td>0</td>\n",
       "      <td>0</td>\n",
       "      <td>0</td>\n",
       "      <td>0</td>\n",
       "      <td>0</td>\n",
       "      <td>0</td>\n",
       "      <td>0</td>\n",
       "      <td>...</td>\n",
       "      <td>0</td>\n",
       "      <td>0</td>\n",
       "      <td>0</td>\n",
       "      <td>0</td>\n",
       "      <td>0</td>\n",
       "      <td>0</td>\n",
       "      <td>0</td>\n",
       "      <td>0</td>\n",
       "      <td>0</td>\n",
       "      <td>0</td>\n",
       "    </tr>\n",
       "    <tr>\n",
       "      <th>11092</th>\n",
       "      <td>0</td>\n",
       "      <td>0</td>\n",
       "      <td>0</td>\n",
       "      <td>0</td>\n",
       "      <td>0</td>\n",
       "      <td>0</td>\n",
       "      <td>0</td>\n",
       "      <td>0</td>\n",
       "      <td>0</td>\n",
       "      <td>0</td>\n",
       "      <td>...</td>\n",
       "      <td>0</td>\n",
       "      <td>0</td>\n",
       "      <td>0</td>\n",
       "      <td>0</td>\n",
       "      <td>0</td>\n",
       "      <td>0</td>\n",
       "      <td>0</td>\n",
       "      <td>0</td>\n",
       "      <td>0</td>\n",
       "      <td>0</td>\n",
       "    </tr>\n",
       "    <tr>\n",
       "      <th>11093</th>\n",
       "      <td>0</td>\n",
       "      <td>0</td>\n",
       "      <td>0</td>\n",
       "      <td>0</td>\n",
       "      <td>0</td>\n",
       "      <td>0</td>\n",
       "      <td>0</td>\n",
       "      <td>0</td>\n",
       "      <td>0</td>\n",
       "      <td>0</td>\n",
       "      <td>...</td>\n",
       "      <td>0</td>\n",
       "      <td>0</td>\n",
       "      <td>0</td>\n",
       "      <td>0</td>\n",
       "      <td>0</td>\n",
       "      <td>0</td>\n",
       "      <td>0</td>\n",
       "      <td>0</td>\n",
       "      <td>0</td>\n",
       "      <td>0</td>\n",
       "    </tr>\n",
       "  </tbody>\n",
       "</table>\n",
       "<p>11094 rows × 101 columns</p>\n",
       "</div>"
      ],
      "text/plain": [
       "       Afghan  African  American  Andhra  Arabian  Asian  Assamese  Awadhi  \\\n",
       "0           0        0         0       0        0      0         0       0   \n",
       "1           0        0         0       0        0      0         0       0   \n",
       "2           0        0         0       0        0      0         0       0   \n",
       "3           0        0         0       0        0      0         0       0   \n",
       "4           0        0         0       0        0      0         0       0   \n",
       "...       ...      ...       ...     ...      ...    ...       ...     ...   \n",
       "11089       0        0         0       0        0      0         0       0   \n",
       "11090       0        0         0       0        0      0         0       0   \n",
       "11091       0        0         0       0        0      0         0       0   \n",
       "11092       0        0         0       0        0      0         0       0   \n",
       "11093       0        0         0       0        0      0         0       0   \n",
       "\n",
       "       BBQ  Bakery  ...  Street Food  Sushi  Tamil  Tea  Tex-Mex  Thai  \\\n",
       "0        0       0  ...            0      0      0    0        0     0   \n",
       "1        0       0  ...            0      0      0    0        0     0   \n",
       "2        0       0  ...            1      0      0    0        0     0   \n",
       "3        0       0  ...            0      0      0    0        0     0   \n",
       "4        0       0  ...            0      0      0    0        0     0   \n",
       "...    ...     ...  ...          ...    ...    ...  ...      ...   ...   \n",
       "11089    0       0  ...            0      0      0    0        0     0   \n",
       "11090    0       0  ...            0      0      0    0        0     0   \n",
       "11091    0       0  ...            0      0      0    0        0     0   \n",
       "11092    0       0  ...            0      0      0    0        0     0   \n",
       "11093    0       0  ...            0      0      0    0        0     0   \n",
       "\n",
       "       Tibetan  Turkish  Vietnamese  Wraps  \n",
       "0            0        0           0      1  \n",
       "1            0        0           0      0  \n",
       "2            0        0           0      0  \n",
       "3            0        0           0      0  \n",
       "4            0        0           0      0  \n",
       "...        ...      ...         ...    ...  \n",
       "11089        1        0           0      0  \n",
       "11090        0        0           0      0  \n",
       "11091        0        0           0      0  \n",
       "11092        0        0           0      0  \n",
       "11093        0        0           0      0  \n",
       "\n",
       "[11094 rows x 101 columns]"
      ]
     },
     "execution_count": 17,
     "metadata": {},
     "output_type": "execute_result"
    }
   ],
   "source": [
    "df_cuisines = df[\"Cuisines\"].str.get_dummies(\", \")\n",
    "df_cuisines"
   ]
  },
  {
   "cell_type": "code",
   "execution_count": 18,
   "id": "micro-helping",
   "metadata": {
    "execution": {
     "iopub.execute_input": "2021-06-04T13:15:43.401080Z",
     "iopub.status.busy": "2021-06-04T13:15:43.399934Z",
     "iopub.status.idle": "2021-06-04T13:15:43.405252Z",
     "shell.execute_reply": "2021-06-04T13:15:43.404659Z",
     "shell.execute_reply.started": "2021-06-04T12:37:47.112266Z"
    },
    "papermill": {
     "duration": 0.075274,
     "end_time": "2021-06-04T13:15:43.405417",
     "exception": false,
     "start_time": "2021-06-04T13:15:43.330143",
     "status": "completed"
    },
    "tags": []
   },
   "outputs": [
    {
     "data": {
      "text/plain": [
       "Index(['Afghan', 'African', 'American', 'Andhra', 'Arabian', 'Asian',\n",
       "       'Assamese', 'Awadhi', 'BBQ', 'Bakery',\n",
       "       ...\n",
       "       'Street Food', 'Sushi', 'Tamil', 'Tea', 'Tex-Mex', 'Thai', 'Tibetan',\n",
       "       'Turkish', 'Vietnamese', 'Wraps'],\n",
       "      dtype='object', length=101)"
      ]
     },
     "execution_count": 18,
     "metadata": {},
     "output_type": "execute_result"
    }
   ],
   "source": [
    "df_cuisines.columns"
   ]
  },
  {
   "cell_type": "code",
   "execution_count": 19,
   "id": "imported-vatican",
   "metadata": {
    "execution": {
     "iopub.execute_input": "2021-06-04T13:15:43.534852Z",
     "iopub.status.busy": "2021-06-04T13:15:43.533890Z",
     "iopub.status.idle": "2021-06-04T13:15:43.538542Z",
     "shell.execute_reply": "2021-06-04T13:15:43.539056Z",
     "shell.execute_reply.started": "2021-06-04T12:37:47.119766Z"
    },
    "papermill": {
     "duration": 0.073235,
     "end_time": "2021-06-04T13:15:43.539320",
     "exception": false,
     "start_time": "2021-06-04T13:15:43.466085",
     "status": "completed"
    },
    "tags": []
   },
   "outputs": [
    {
     "data": {
      "text/plain": [
       "0        ₹200\n",
       "1        ₹100\n",
       "2        ₹150\n",
       "3        ₹250\n",
       "4        ₹200\n",
       "         ... \n",
       "11089    ₹250\n",
       "11090    ₹100\n",
       "11091    ₹100\n",
       "11092    ₹100\n",
       "11093    ₹100\n",
       "Name: Average_Cost, Length: 11094, dtype: object"
      ]
     },
     "execution_count": 19,
     "metadata": {},
     "output_type": "execute_result"
    }
   ],
   "source": [
    "df[\"Average_Cost\"]"
   ]
  },
  {
   "cell_type": "code",
   "execution_count": 20,
   "id": "peaceful-company",
   "metadata": {
    "execution": {
     "iopub.execute_input": "2021-06-04T13:15:43.674373Z",
     "iopub.status.busy": "2021-06-04T13:15:43.670210Z",
     "iopub.status.idle": "2021-06-04T13:15:43.680555Z",
     "shell.execute_reply": "2021-06-04T13:15:43.679816Z",
     "shell.execute_reply.started": "2021-06-04T12:37:47.134178Z"
    },
    "papermill": {
     "duration": 0.082051,
     "end_time": "2021-06-04T13:15:43.680749",
     "exception": false,
     "start_time": "2021-06-04T13:15:43.598698",
     "status": "completed"
    },
    "tags": []
   },
   "outputs": [
    {
     "data": {
      "text/plain": [
       "₹200      3241\n",
       "₹100      2557\n",
       "₹150      2462\n",
       "₹250       881\n",
       "₹300       537\n",
       "₹350       283\n",
       "₹400       282\n",
       "₹50        265\n",
       "₹600       154\n",
       "₹500       101\n",
       "₹450        63\n",
       "₹550        60\n",
       "₹650        55\n",
       "₹800        44\n",
       "₹750        38\n",
       "₹900        15\n",
       "₹700        15\n",
       "₹1,000      12\n",
       "₹850        12\n",
       "₹1,200       8\n",
       "₹950         4\n",
       "₹1,150       1\n",
       "for          1\n",
       "₹1,100       1\n",
       "₹1,400       1\n",
       "₹2,050       1\n",
       "Name: Average_Cost, dtype: int64"
      ]
     },
     "execution_count": 20,
     "metadata": {},
     "output_type": "execute_result"
    }
   ],
   "source": [
    "df[\"Average_Cost\"].value_counts()"
   ]
  },
  {
   "cell_type": "markdown",
   "id": "sitting-couple",
   "metadata": {
    "papermill": {
     "duration": 0.058423,
     "end_time": "2021-06-04T13:15:43.808783",
     "exception": false,
     "start_time": "2021-06-04T13:15:43.750360",
     "status": "completed"
    },
    "tags": []
   },
   "source": [
    "`Average_Cost` column is about the Average cost of the delivery. It is basically the `int` values with the prefix `₹`. So we need to remove the prefix. And there are data with comma like `1,000`, `1,500`. Also we need to remove the rows that has `for` value. Why `for`? Maybe there's some error. And then, we need to convert to `int`"
   ]
  },
  {
   "cell_type": "code",
   "execution_count": 21,
   "id": "solid-caution",
   "metadata": {
    "execution": {
     "iopub.execute_input": "2021-06-04T13:15:43.956623Z",
     "iopub.status.busy": "2021-06-04T13:15:43.955341Z",
     "iopub.status.idle": "2021-06-04T13:15:44.002933Z",
     "shell.execute_reply": "2021-06-04T13:15:44.003721Z",
     "shell.execute_reply.started": "2021-06-04T12:37:47.154763Z"
    },
    "papermill": {
     "duration": 0.120111,
     "end_time": "2021-06-04T13:15:44.003975",
     "exception": false,
     "start_time": "2021-06-04T13:15:43.883864",
     "status": "completed"
    },
    "tags": []
   },
   "outputs": [
    {
     "data": {
      "text/plain": [
       "0        200\n",
       "1        100\n",
       "2        150\n",
       "3        250\n",
       "4        200\n",
       "        ... \n",
       "11089    250\n",
       "11090    100\n",
       "11091    100\n",
       "11092    100\n",
       "11093    100\n",
       "Name: Average_Cost, Length: 11093, dtype: int64"
      ]
     },
     "execution_count": 21,
     "metadata": {},
     "output_type": "execute_result"
    }
   ],
   "source": [
    "df_average_cost = df[df[\"Average_Cost\"] != \"for\"]\n",
    "df_average_cost = df_average_cost[\"Average_Cost\"].str.replace(\"₹\", \"\")\n",
    "df_average_cost = df_average_cost.str.replace(\",\", \"\")\n",
    "df_average_cost = pd.to_numeric(df_average_cost)\n",
    "df_average_cost"
   ]
  },
  {
   "cell_type": "code",
   "execution_count": 22,
   "id": "collaborative-female",
   "metadata": {
    "execution": {
     "iopub.execute_input": "2021-06-04T13:15:44.139188Z",
     "iopub.status.busy": "2021-06-04T13:15:44.137985Z",
     "iopub.status.idle": "2021-06-04T13:15:44.146848Z",
     "shell.execute_reply": "2021-06-04T13:15:44.147540Z",
     "shell.execute_reply.started": "2021-06-04T12:37:47.186335Z"
    },
    "papermill": {
     "duration": 0.076521,
     "end_time": "2021-06-04T13:15:44.147771",
     "exception": false,
     "start_time": "2021-06-04T13:15:44.071250",
     "status": "completed"
    },
    "tags": []
   },
   "outputs": [
    {
     "data": {
      "text/plain": [
       "0        ₹50\n",
       "1        ₹50\n",
       "2        ₹50\n",
       "3        ₹99\n",
       "4        ₹99\n",
       "        ... \n",
       "11089    ₹50\n",
       "11090    ₹50\n",
       "11091    ₹50\n",
       "11092    ₹50\n",
       "11093    ₹50\n",
       "Name: Minimum_Order, Length: 11094, dtype: object"
      ]
     },
     "execution_count": 22,
     "metadata": {},
     "output_type": "execute_result"
    }
   ],
   "source": [
    "df[\"Minimum_Order\"]"
   ]
  },
  {
   "cell_type": "code",
   "execution_count": 23,
   "id": "unlimited-legend",
   "metadata": {
    "execution": {
     "iopub.execute_input": "2021-06-04T13:15:44.283927Z",
     "iopub.status.busy": "2021-06-04T13:15:44.282692Z",
     "iopub.status.idle": "2021-06-04T13:15:44.287297Z",
     "shell.execute_reply": "2021-06-04T13:15:44.287866Z",
     "shell.execute_reply.started": "2021-06-04T12:37:47.19944Z"
    },
    "papermill": {
     "duration": 0.08051,
     "end_time": "2021-06-04T13:15:44.288147",
     "exception": false,
     "start_time": "2021-06-04T13:15:44.207637",
     "status": "completed"
    },
    "tags": []
   },
   "outputs": [
    {
     "data": {
      "text/plain": [
       "₹50     10118\n",
       "₹99       779\n",
       "₹0        158\n",
       "₹199        8\n",
       "₹200        8\n",
       "₹299        3\n",
       "₹59         3\n",
       "₹350        3\n",
       "₹79         2\n",
       "₹90         2\n",
       "₹450        2\n",
       "₹300        2\n",
       "₹400        1\n",
       "₹250        1\n",
       "₹150        1\n",
       "₹240        1\n",
       "₹89         1\n",
       "₹500        1\n",
       "Name: Minimum_Order, dtype: int64"
      ]
     },
     "execution_count": 23,
     "metadata": {},
     "output_type": "execute_result"
    }
   ],
   "source": [
    "df[\"Minimum_Order\"].value_counts()"
   ]
  },
  {
   "cell_type": "markdown",
   "id": "animated-jordan",
   "metadata": {
    "papermill": {
     "duration": 0.069921,
     "end_time": "2021-06-04T13:15:44.431684",
     "exception": false,
     "start_time": "2021-06-04T13:15:44.361763",
     "status": "completed"
    },
    "tags": []
   },
   "source": [
    "`Minimum_Order` column is similar with the `Average_Cost` column."
   ]
  },
  {
   "cell_type": "code",
   "execution_count": 24,
   "id": "rotary-system",
   "metadata": {
    "execution": {
     "iopub.execute_input": "2021-06-04T13:15:44.578753Z",
     "iopub.status.busy": "2021-06-04T13:15:44.577314Z",
     "iopub.status.idle": "2021-06-04T13:15:44.609731Z",
     "shell.execute_reply": "2021-06-04T13:15:44.610274Z",
     "shell.execute_reply.started": "2021-06-04T12:37:47.213647Z"
    },
    "papermill": {
     "duration": 0.10596,
     "end_time": "2021-06-04T13:15:44.610514",
     "exception": false,
     "start_time": "2021-06-04T13:15:44.504554",
     "status": "completed"
    },
    "tags": []
   },
   "outputs": [
    {
     "data": {
      "text/plain": [
       "0        50\n",
       "1        50\n",
       "2        50\n",
       "3        99\n",
       "4        99\n",
       "         ..\n",
       "11089    50\n",
       "11090    50\n",
       "11091    50\n",
       "11092    50\n",
       "11093    50\n",
       "Name: Minimum_Order, Length: 11094, dtype: int64"
      ]
     },
     "execution_count": 24,
     "metadata": {},
     "output_type": "execute_result"
    }
   ],
   "source": [
    "df_minimum_order = df.copy()\n",
    "minimum_order = df_minimum_order[\"Minimum_Order\"].str.replace(\"₹\", \"\")\n",
    "minimum_order = pd.to_numeric(minimum_order)\n",
    "minimum_order"
   ]
  },
  {
   "cell_type": "code",
   "execution_count": 25,
   "id": "operating-intake",
   "metadata": {
    "execution": {
     "iopub.execute_input": "2021-06-04T13:15:44.741348Z",
     "iopub.status.busy": "2021-06-04T13:15:44.740078Z",
     "iopub.status.idle": "2021-06-04T13:15:44.750394Z",
     "shell.execute_reply": "2021-06-04T13:15:44.751034Z",
     "shell.execute_reply.started": "2021-06-04T12:37:47.237211Z"
    },
    "papermill": {
     "duration": 0.077913,
     "end_time": "2021-06-04T13:15:44.751287",
     "exception": false,
     "start_time": "2021-06-04T13:15:44.673374",
     "status": "completed"
    },
    "tags": []
   },
   "outputs": [
    {
     "data": {
      "text/plain": [
       "0        3.5\n",
       "1        3.5\n",
       "2        3.6\n",
       "3        3.7\n",
       "4        3.2\n",
       "        ... \n",
       "11089    4.2\n",
       "11090    3.6\n",
       "11091    3.5\n",
       "11092    3.1\n",
       "11093    NEW\n",
       "Name: Rating, Length: 11094, dtype: object"
      ]
     },
     "execution_count": 25,
     "metadata": {},
     "output_type": "execute_result"
    }
   ],
   "source": [
    "df[\"Rating\"]"
   ]
  },
  {
   "cell_type": "code",
   "execution_count": 26,
   "id": "ahead-garage",
   "metadata": {
    "execution": {
     "iopub.execute_input": "2021-06-04T13:15:44.879654Z",
     "iopub.status.busy": "2021-06-04T13:15:44.878741Z",
     "iopub.status.idle": "2021-06-04T13:15:44.893292Z",
     "shell.execute_reply": "2021-06-04T13:15:44.892085Z",
     "shell.execute_reply.started": "2021-06-04T12:37:47.246666Z"
    },
    "papermill": {
     "duration": 0.082633,
     "end_time": "2021-06-04T13:15:44.893542",
     "exception": false,
     "start_time": "2021-06-04T13:15:44.810909",
     "status": "completed"
    },
    "tags": []
   },
   "outputs": [
    {
     "data": {
      "text/plain": [
       "-                     1191\n",
       "3.7                    869\n",
       "3.6                    846\n",
       "3.5                    818\n",
       "3.8                    800\n",
       "NEW                    758\n",
       "3.9                    749\n",
       "3.4                    718\n",
       "3.3                    675\n",
       "4.0                    614\n",
       "3.2                    511\n",
       "4.1                    459\n",
       "3.1                    411\n",
       "3.0                    302\n",
       "4.2                    272\n",
       "4.3                    247\n",
       "2.9                    199\n",
       "2.8                    157\n",
       "4.4                    142\n",
       "4.5                     78\n",
       "2.7                     76\n",
       "2.6                     42\n",
       "4.6                     41\n",
       "4.7                     36\n",
       "2.5                     27\n",
       "2.4                     13\n",
       "4.8                     13\n",
       "Opening Soon            12\n",
       "4.9                      8\n",
       "2.3                      6\n",
       "Temporarily Closed       2\n",
       "2.2                      1\n",
       "2.1                      1\n",
       "Name: Rating, dtype: int64"
      ]
     },
     "execution_count": 26,
     "metadata": {},
     "output_type": "execute_result"
    }
   ],
   "source": [
    "df[\"Rating\"].value_counts()"
   ]
  },
  {
   "cell_type": "markdown",
   "id": "assured-industry",
   "metadata": {
    "papermill": {
     "duration": 0.066613,
     "end_time": "2021-06-04T13:15:45.023951",
     "exception": false,
     "start_time": "2021-06-04T13:15:44.957338",
     "status": "completed"
    },
    "tags": []
   },
   "source": [
    "`Rating` column is basically `float` types but there are some strings, `-`, `NEW`, `Opening Soon` and `Temporarily Closed`. They counts roughly 2k, so rather remove the rows, let's convert the values into `median`"
   ]
  },
  {
   "cell_type": "code",
   "execution_count": 27,
   "id": "bound-receiver",
   "metadata": {
    "execution": {
     "iopub.execute_input": "2021-06-04T13:15:45.175371Z",
     "iopub.status.busy": "2021-06-04T13:15:45.174560Z",
     "iopub.status.idle": "2021-06-04T13:15:45.191055Z",
     "shell.execute_reply": "2021-06-04T13:15:45.190372Z",
     "shell.execute_reply.started": "2021-06-04T12:37:47.260357Z"
    },
    "papermill": {
     "duration": 0.096808,
     "end_time": "2021-06-04T13:15:45.191254",
     "exception": false,
     "start_time": "2021-06-04T13:15:45.094446",
     "status": "completed"
    },
    "tags": []
   },
   "outputs": [
    {
     "data": {
      "text/plain": [
       "3.6"
      ]
     },
     "execution_count": 27,
     "metadata": {},
     "output_type": "execute_result"
    }
   ],
   "source": [
    "rating_str = [\"-\", \"NEW\", \"Opening Soon\", \"Temporarily Closed\"]\n",
    "df_rating_num = df[~df[\"Rating\"].isin(rating_str)]\n",
    "rating_num = pd.to_numeric(df_rating_num[\"Rating\"])\n",
    "median = rating_num.median()\n",
    "median"
   ]
  },
  {
   "cell_type": "code",
   "execution_count": 28,
   "id": "explicit-finding",
   "metadata": {
    "execution": {
     "iopub.execute_input": "2021-06-04T13:15:45.330636Z",
     "iopub.status.busy": "2021-06-04T13:15:45.329802Z",
     "iopub.status.idle": "2021-06-04T13:15:45.341380Z",
     "shell.execute_reply": "2021-06-04T13:15:45.340487Z",
     "shell.execute_reply.started": "2021-06-04T12:37:47.280392Z"
    },
    "papermill": {
     "duration": 0.089096,
     "end_time": "2021-06-04T13:15:45.341566",
     "exception": false,
     "start_time": "2021-06-04T13:15:45.252470",
     "status": "completed"
    },
    "tags": []
   },
   "outputs": [
    {
     "data": {
      "text/plain": [
       "0        3.5\n",
       "1        3.5\n",
       "2        3.6\n",
       "3        3.7\n",
       "4        3.2\n",
       "        ... \n",
       "11089    4.2\n",
       "11090    3.6\n",
       "11091    3.5\n",
       "11092    3.1\n",
       "11093    3.6\n",
       "Name: Rating, Length: 11094, dtype: float64"
      ]
     },
     "execution_count": 28,
     "metadata": {},
     "output_type": "execute_result"
    }
   ],
   "source": [
    "df_rating = df.copy()\n",
    "df_rating.loc[df[\"Rating\"].isin(rating_str), \"Rating\"] = str(median)\n",
    "df_rating[\"Rating\"] = pd.to_numeric(df_rating[\"Rating\"])\n",
    "df_rating[\"Rating\"]"
   ]
  },
  {
   "cell_type": "code",
   "execution_count": 29,
   "id": "rocky-release",
   "metadata": {
    "execution": {
     "iopub.execute_input": "2021-06-04T13:15:45.471545Z",
     "iopub.status.busy": "2021-06-04T13:15:45.470187Z",
     "iopub.status.idle": "2021-06-04T13:15:45.474902Z",
     "shell.execute_reply": "2021-06-04T13:15:45.474284Z",
     "shell.execute_reply.started": "2021-06-04T12:37:47.294654Z"
    },
    "papermill": {
     "duration": 0.073748,
     "end_time": "2021-06-04T13:15:45.475072",
     "exception": false,
     "start_time": "2021-06-04T13:15:45.401324",
     "status": "completed"
    },
    "tags": []
   },
   "outputs": [
    {
     "data": {
      "text/plain": [
       "0         12\n",
       "1         11\n",
       "2         99\n",
       "3        176\n",
       "4        521\n",
       "        ... \n",
       "11089    326\n",
       "11090     36\n",
       "11091     45\n",
       "11092     24\n",
       "11093      -\n",
       "Name: Votes, Length: 11094, dtype: object"
      ]
     },
     "execution_count": 29,
     "metadata": {},
     "output_type": "execute_result"
    }
   ],
   "source": [
    "df[\"Votes\"]"
   ]
  },
  {
   "cell_type": "markdown",
   "id": "postal-switch",
   "metadata": {
    "papermill": {
     "duration": 0.059536,
     "end_time": "2021-06-04T13:15:45.595893",
     "exception": false,
     "start_time": "2021-06-04T13:15:45.536357",
     "status": "completed"
    },
    "tags": []
   },
   "source": [
    "`Votes` column has only `-`, and the others are all `float` types. for `Votes`, I assume that the default value for votes is 0. No one votes. This is the different."
   ]
  },
  {
   "cell_type": "code",
   "execution_count": 30,
   "id": "laughing-florist",
   "metadata": {
    "execution": {
     "iopub.execute_input": "2021-06-04T13:15:45.736041Z",
     "iopub.status.busy": "2021-06-04T13:15:45.725729Z",
     "iopub.status.idle": "2021-06-04T13:15:45.748044Z",
     "shell.execute_reply": "2021-06-04T13:15:45.747268Z",
     "shell.execute_reply.started": "2021-06-04T12:37:47.31154Z"
    },
    "papermill": {
     "duration": 0.092083,
     "end_time": "2021-06-04T13:15:45.748281",
     "exception": false,
     "start_time": "2021-06-04T13:15:45.656198",
     "status": "completed"
    },
    "tags": []
   },
   "outputs": [
    {
     "data": {
      "text/plain": [
       "0         12\n",
       "1         11\n",
       "2         99\n",
       "3        176\n",
       "4        521\n",
       "        ... \n",
       "11089    326\n",
       "11090     36\n",
       "11091     45\n",
       "11092     24\n",
       "11093      0\n",
       "Name: Votes, Length: 11094, dtype: int64"
      ]
     },
     "execution_count": 30,
     "metadata": {},
     "output_type": "execute_result"
    }
   ],
   "source": [
    "df_votes = df.copy()\n",
    "df_votes.loc[df[\"Votes\"] == '-', \"Votes\"] = str(0)\n",
    "df_votes[\"Votes\"] = pd.to_numeric(df_votes[\"Votes\"])\n",
    "df_votes[\"Votes\"]"
   ]
  },
  {
   "cell_type": "code",
   "execution_count": 31,
   "id": "quarterly-owner",
   "metadata": {
    "execution": {
     "iopub.execute_input": "2021-06-04T13:15:45.877014Z",
     "iopub.status.busy": "2021-06-04T13:15:45.876247Z",
     "iopub.status.idle": "2021-06-04T13:15:45.886232Z",
     "shell.execute_reply": "2021-06-04T13:15:45.885520Z",
     "shell.execute_reply.started": "2021-06-04T12:37:47.333528Z"
    },
    "papermill": {
     "duration": 0.077161,
     "end_time": "2021-06-04T13:15:45.886415",
     "exception": false,
     "start_time": "2021-06-04T13:15:45.809254",
     "status": "completed"
    },
    "tags": []
   },
   "outputs": [
    {
     "data": {
      "text/plain": [
       "0       2074\n",
       "4        248\n",
       "6        200\n",
       "7        182\n",
       "9        181\n",
       "        ... \n",
       "1106       1\n",
       "935        1\n",
       "663        1\n",
       "1116       1\n",
       "3700       1\n",
       "Name: Votes, Length: 1103, dtype: int64"
      ]
     },
     "execution_count": 31,
     "metadata": {},
     "output_type": "execute_result"
    }
   ],
   "source": [
    "df_votes[\"Votes\"].value_counts()"
   ]
  },
  {
   "cell_type": "code",
   "execution_count": 32,
   "id": "impaired-organic",
   "metadata": {
    "execution": {
     "iopub.execute_input": "2021-06-04T13:15:46.024630Z",
     "iopub.status.busy": "2021-06-04T13:15:46.023611Z",
     "iopub.status.idle": "2021-06-04T13:15:46.028123Z",
     "shell.execute_reply": "2021-06-04T13:15:46.027530Z",
     "shell.execute_reply.started": "2021-06-04T12:37:47.344755Z"
    },
    "papermill": {
     "duration": 0.079997,
     "end_time": "2021-06-04T13:15:46.028299",
     "exception": false,
     "start_time": "2021-06-04T13:15:45.948302",
     "status": "completed"
    },
    "tags": []
   },
   "outputs": [
    {
     "data": {
      "text/plain": [
       "0          4\n",
       "1          4\n",
       "2         30\n",
       "3         95\n",
       "4        235\n",
       "        ... \n",
       "11089    189\n",
       "11090     16\n",
       "11091     18\n",
       "11092      9\n",
       "11093      -\n",
       "Name: Reviews, Length: 11094, dtype: object"
      ]
     },
     "execution_count": 32,
     "metadata": {},
     "output_type": "execute_result"
    }
   ],
   "source": [
    "df[\"Reviews\"]"
   ]
  },
  {
   "cell_type": "code",
   "execution_count": 33,
   "id": "theoretical-antigua",
   "metadata": {
    "execution": {
     "iopub.execute_input": "2021-06-04T13:15:46.167409Z",
     "iopub.status.busy": "2021-06-04T13:15:46.163191Z",
     "iopub.status.idle": "2021-06-04T13:15:46.173039Z",
     "shell.execute_reply": "2021-06-04T13:15:46.172327Z",
     "shell.execute_reply.started": "2021-06-04T12:37:47.356875Z"
    },
    "papermill": {
     "duration": 0.082182,
     "end_time": "2021-06-04T13:15:46.173221",
     "exception": false,
     "start_time": "2021-06-04T13:15:46.091039",
     "status": "completed"
    },
    "tags": []
   },
   "outputs": [
    {
     "data": {
      "text/plain": [
       "-       2312\n",
       "2        420\n",
       "3        387\n",
       "1        381\n",
       "4        356\n",
       "        ... \n",
       "1501       1\n",
       "983        1\n",
       "343        1\n",
       "397        1\n",
       "549        1\n",
       "Name: Reviews, Length: 761, dtype: int64"
      ]
     },
     "execution_count": 33,
     "metadata": {},
     "output_type": "execute_result"
    }
   ],
   "source": [
    "df[\"Reviews\"].value_counts()"
   ]
  },
  {
   "cell_type": "markdown",
   "id": "documentary-metallic",
   "metadata": {
    "papermill": {
     "duration": 0.060806,
     "end_time": "2021-06-04T13:15:46.295671",
     "exception": false,
     "start_time": "2021-06-04T13:15:46.234865",
     "status": "completed"
    },
    "tags": []
   },
   "source": [
    "`Reviews` column has only `-`, and the others are all `int` types. for `Reviews`, I assume that the default value for reviews is 0. No one reviews."
   ]
  },
  {
   "cell_type": "code",
   "execution_count": 34,
   "id": "vital-package",
   "metadata": {
    "execution": {
     "iopub.execute_input": "2021-06-04T13:15:46.441421Z",
     "iopub.status.busy": "2021-06-04T13:15:46.440093Z",
     "iopub.status.idle": "2021-06-04T13:15:46.451253Z",
     "shell.execute_reply": "2021-06-04T13:15:46.450438Z",
     "shell.execute_reply.started": "2021-06-04T12:37:47.372229Z"
    },
    "papermill": {
     "duration": 0.094601,
     "end_time": "2021-06-04T13:15:46.451447",
     "exception": false,
     "start_time": "2021-06-04T13:15:46.356846",
     "status": "completed"
    },
    "tags": []
   },
   "outputs": [
    {
     "data": {
      "text/plain": [
       "0          4\n",
       "1          4\n",
       "2         30\n",
       "3         95\n",
       "4        235\n",
       "        ... \n",
       "11089    189\n",
       "11090     16\n",
       "11091     18\n",
       "11092      9\n",
       "11093      0\n",
       "Name: Reviews, Length: 11094, dtype: int64"
      ]
     },
     "execution_count": 34,
     "metadata": {},
     "output_type": "execute_result"
    }
   ],
   "source": [
    "df_reviews = df.copy()\n",
    "df_reviews.loc[df[\"Reviews\"] == '-', \"Reviews\"] = str(0)\n",
    "df_reviews[\"Reviews\"] = pd.to_numeric(df_reviews[\"Reviews\"])\n",
    "df_reviews[\"Reviews\"]"
   ]
  },
  {
   "cell_type": "code",
   "execution_count": 35,
   "id": "proof-oliver",
   "metadata": {
    "execution": {
     "iopub.execute_input": "2021-06-04T13:15:46.584657Z",
     "iopub.status.busy": "2021-06-04T13:15:46.583465Z",
     "iopub.status.idle": "2021-06-04T13:15:46.593410Z",
     "shell.execute_reply": "2021-06-04T13:15:46.594003Z",
     "shell.execute_reply.started": "2021-06-04T12:37:47.389833Z"
    },
    "papermill": {
     "duration": 0.081059,
     "end_time": "2021-06-04T13:15:46.594298",
     "exception": false,
     "start_time": "2021-06-04T13:15:46.513239",
     "status": "completed"
    },
    "tags": []
   },
   "outputs": [
    {
     "data": {
      "text/plain": [
       "0       2312\n",
       "2        420\n",
       "3        387\n",
       "1        381\n",
       "4        356\n",
       "        ... \n",
       "1501       1\n",
       "983        1\n",
       "343        1\n",
       "397        1\n",
       "549        1\n",
       "Name: Reviews, Length: 761, dtype: int64"
      ]
     },
     "execution_count": 35,
     "metadata": {},
     "output_type": "execute_result"
    }
   ],
   "source": [
    "df_reviews[\"Reviews\"].value_counts()"
   ]
  },
  {
   "cell_type": "code",
   "execution_count": 36,
   "id": "polished-balance",
   "metadata": {
    "execution": {
     "iopub.execute_input": "2021-06-04T13:15:46.729377Z",
     "iopub.status.busy": "2021-06-04T13:15:46.728497Z",
     "iopub.status.idle": "2021-06-04T13:15:46.732514Z",
     "shell.execute_reply": "2021-06-04T13:15:46.731837Z",
     "shell.execute_reply.started": "2021-06-04T12:37:47.399926Z"
    },
    "papermill": {
     "duration": 0.076033,
     "end_time": "2021-06-04T13:15:46.732684",
     "exception": false,
     "start_time": "2021-06-04T13:15:46.656651",
     "status": "completed"
    },
    "tags": []
   },
   "outputs": [
    {
     "data": {
      "text/plain": [
       "0        30 minutes\n",
       "1        30 minutes\n",
       "2        65 minutes\n",
       "3        30 minutes\n",
       "4        65 minutes\n",
       "            ...    \n",
       "11089    30 minutes\n",
       "11090    30 minutes\n",
       "11091    30 minutes\n",
       "11092    30 minutes\n",
       "11093    30 minutes\n",
       "Name: Delivery_Time, Length: 11094, dtype: object"
      ]
     },
     "execution_count": 36,
     "metadata": {},
     "output_type": "execute_result"
    }
   ],
   "source": [
    "df[\"Delivery_Time\"]"
   ]
  },
  {
   "cell_type": "code",
   "execution_count": 37,
   "id": "finnish-director",
   "metadata": {
    "execution": {
     "iopub.execute_input": "2021-06-04T13:15:46.876817Z",
     "iopub.status.busy": "2021-06-04T13:15:46.875878Z",
     "iopub.status.idle": "2021-06-04T13:15:46.881252Z",
     "shell.execute_reply": "2021-06-04T13:15:46.880545Z",
     "shell.execute_reply.started": "2021-06-04T12:37:47.41183Z"
    },
    "papermill": {
     "duration": 0.081347,
     "end_time": "2021-06-04T13:15:46.881426",
     "exception": false,
     "start_time": "2021-06-04T13:15:46.800079",
     "status": "completed"
    },
    "tags": []
   },
   "outputs": [
    {
     "data": {
      "text/plain": [
       "30 minutes     7406\n",
       "45 minutes     2665\n",
       "65 minutes      923\n",
       "120 minutes      62\n",
       "20 minutes       20\n",
       "80 minutes       14\n",
       "10 minutes        4\n",
       "Name: Delivery_Time, dtype: int64"
      ]
     },
     "execution_count": 37,
     "metadata": {},
     "output_type": "execute_result"
    }
   ],
   "source": [
    "df[\"Delivery_Time\"].value_counts()"
   ]
  },
  {
   "cell_type": "markdown",
   "id": "logical-essence",
   "metadata": {
    "papermill": {
     "duration": 0.070815,
     "end_time": "2021-06-04T13:15:47.017532",
     "exception": false,
     "start_time": "2021-06-04T13:15:46.946717",
     "status": "completed"
    },
    "tags": []
   },
   "source": [
    "`Delivery_Time` column is the target value we try to predict. For regression, we should convert the `object` value to `int`."
   ]
  },
  {
   "cell_type": "code",
   "execution_count": 38,
   "id": "caroline-customer",
   "metadata": {
    "execution": {
     "iopub.execute_input": "2021-06-04T13:15:47.190085Z",
     "iopub.status.busy": "2021-06-04T13:15:47.186358Z",
     "iopub.status.idle": "2021-06-04T13:15:47.195950Z",
     "shell.execute_reply": "2021-06-04T13:15:47.195173Z",
     "shell.execute_reply.started": "2021-06-04T12:37:47.426607Z"
    },
    "papermill": {
     "duration": 0.105919,
     "end_time": "2021-06-04T13:15:47.196165",
     "exception": false,
     "start_time": "2021-06-04T13:15:47.090246",
     "status": "completed"
    },
    "tags": []
   },
   "outputs": [
    {
     "data": {
      "text/plain": [
       "0        30\n",
       "1        30\n",
       "2        65\n",
       "3        30\n",
       "4        65\n",
       "         ..\n",
       "11089    30\n",
       "11090    30\n",
       "11091    30\n",
       "11092    30\n",
       "11093    30\n",
       "Name: Delivery_Time, Length: 11094, dtype: int64"
      ]
     },
     "execution_count": 38,
     "metadata": {},
     "output_type": "execute_result"
    }
   ],
   "source": [
    "df_delivery_time = df.copy()\n",
    "delivery_time = df_delivery_time[\"Delivery_Time\"].str.replace(\" minutes\", \"\")\n",
    "delivery_time = pd.to_numeric(delivery_time)\n",
    "delivery_time"
   ]
  },
  {
   "cell_type": "code",
   "execution_count": 39,
   "id": "chicken-rescue",
   "metadata": {
    "execution": {
     "iopub.execute_input": "2021-06-04T13:15:47.333311Z",
     "iopub.status.busy": "2021-06-04T13:15:47.329914Z",
     "iopub.status.idle": "2021-06-04T13:15:47.338249Z",
     "shell.execute_reply": "2021-06-04T13:15:47.338778Z",
     "shell.execute_reply.started": "2021-06-04T12:37:47.456671Z"
    },
    "papermill": {
     "duration": 0.077585,
     "end_time": "2021-06-04T13:15:47.339023",
     "exception": false,
     "start_time": "2021-06-04T13:15:47.261438",
     "status": "completed"
    },
    "tags": []
   },
   "outputs": [
    {
     "data": {
      "text/plain": [
       "30     7406\n",
       "45     2665\n",
       "65      923\n",
       "120      62\n",
       "20       20\n",
       "80       14\n",
       "10        4\n",
       "Name: Delivery_Time, dtype: int64"
      ]
     },
     "execution_count": 39,
     "metadata": {},
     "output_type": "execute_result"
    }
   ],
   "source": [
    "delivery_time.value_counts()"
   ]
  },
  {
   "cell_type": "markdown",
   "id": "successful-terrorist",
   "metadata": {
    "papermill": {
     "duration": 0.064826,
     "end_time": "2021-06-04T13:15:47.468690",
     "exception": false,
     "start_time": "2021-06-04T13:15:47.403864",
     "status": "completed"
    },
    "tags": []
   },
   "source": [
    "Let's transform all this sequence with `pipeline`."
   ]
  },
  {
   "cell_type": "code",
   "execution_count": 40,
   "id": "spanish-mount",
   "metadata": {
    "execution": {
     "iopub.execute_input": "2021-06-04T13:15:47.618939Z",
     "iopub.status.busy": "2021-06-04T13:15:47.616654Z",
     "iopub.status.idle": "2021-06-04T13:15:49.644985Z",
     "shell.execute_reply": "2021-06-04T13:15:49.643988Z",
     "shell.execute_reply.started": "2021-06-04T12:51:23.91969Z"
    },
    "papermill": {
     "duration": 2.112828,
     "end_time": "2021-06-04T13:15:49.645244",
     "exception": false,
     "start_time": "2021-06-04T13:15:47.532416",
     "status": "completed"
    },
    "tags": []
   },
   "outputs": [
    {
     "data": {
      "text/html": [
       "<div>\n",
       "<style scoped>\n",
       "    .dataframe tbody tr th:only-of-type {\n",
       "        vertical-align: middle;\n",
       "    }\n",
       "\n",
       "    .dataframe tbody tr th {\n",
       "        vertical-align: top;\n",
       "    }\n",
       "\n",
       "    .dataframe thead th {\n",
       "        text-align: right;\n",
       "    }\n",
       "</style>\n",
       "<table border=\"1\" class=\"dataframe\">\n",
       "  <thead>\n",
       "    <tr style=\"text-align: right;\">\n",
       "      <th></th>\n",
       "      <th>Average_Cost</th>\n",
       "      <th>Minimum_Order</th>\n",
       "      <th>Rating</th>\n",
       "      <th>Votes</th>\n",
       "      <th>Reviews</th>\n",
       "      <th>Delivery_Time</th>\n",
       "      <th>Location_BTM Layout 1, Electronic City</th>\n",
       "      <th>Location_Babarpur, New Delhi, Delhi</th>\n",
       "      <th>Location_Chandni Chowk, Kolkata</th>\n",
       "      <th>Location_Chatta Bazaar, Malakpet, Hyderabad</th>\n",
       "      <th>...</th>\n",
       "      <th>Street Food</th>\n",
       "      <th>Sushi</th>\n",
       "      <th>Tamil</th>\n",
       "      <th>Tea</th>\n",
       "      <th>Tex-Mex</th>\n",
       "      <th>Thai</th>\n",
       "      <th>Tibetan</th>\n",
       "      <th>Turkish</th>\n",
       "      <th>Vietnamese</th>\n",
       "      <th>Wraps</th>\n",
       "    </tr>\n",
       "  </thead>\n",
       "  <tbody>\n",
       "    <tr>\n",
       "      <th>0</th>\n",
       "      <td>200</td>\n",
       "      <td>50</td>\n",
       "      <td>3.5</td>\n",
       "      <td>12</td>\n",
       "      <td>4</td>\n",
       "      <td>30</td>\n",
       "      <td>0</td>\n",
       "      <td>0</td>\n",
       "      <td>0</td>\n",
       "      <td>0</td>\n",
       "      <td>...</td>\n",
       "      <td>0</td>\n",
       "      <td>0</td>\n",
       "      <td>0</td>\n",
       "      <td>0</td>\n",
       "      <td>0</td>\n",
       "      <td>0</td>\n",
       "      <td>0</td>\n",
       "      <td>0</td>\n",
       "      <td>0</td>\n",
       "      <td>1</td>\n",
       "    </tr>\n",
       "    <tr>\n",
       "      <th>1</th>\n",
       "      <td>100</td>\n",
       "      <td>50</td>\n",
       "      <td>3.5</td>\n",
       "      <td>11</td>\n",
       "      <td>4</td>\n",
       "      <td>30</td>\n",
       "      <td>0</td>\n",
       "      <td>0</td>\n",
       "      <td>0</td>\n",
       "      <td>0</td>\n",
       "      <td>...</td>\n",
       "      <td>0</td>\n",
       "      <td>0</td>\n",
       "      <td>0</td>\n",
       "      <td>0</td>\n",
       "      <td>0</td>\n",
       "      <td>0</td>\n",
       "      <td>0</td>\n",
       "      <td>0</td>\n",
       "      <td>0</td>\n",
       "      <td>0</td>\n",
       "    </tr>\n",
       "    <tr>\n",
       "      <th>2</th>\n",
       "      <td>150</td>\n",
       "      <td>50</td>\n",
       "      <td>3.6</td>\n",
       "      <td>99</td>\n",
       "      <td>30</td>\n",
       "      <td>65</td>\n",
       "      <td>0</td>\n",
       "      <td>0</td>\n",
       "      <td>0</td>\n",
       "      <td>0</td>\n",
       "      <td>...</td>\n",
       "      <td>1</td>\n",
       "      <td>0</td>\n",
       "      <td>0</td>\n",
       "      <td>0</td>\n",
       "      <td>0</td>\n",
       "      <td>0</td>\n",
       "      <td>0</td>\n",
       "      <td>0</td>\n",
       "      <td>0</td>\n",
       "      <td>0</td>\n",
       "    </tr>\n",
       "    <tr>\n",
       "      <th>3</th>\n",
       "      <td>250</td>\n",
       "      <td>99</td>\n",
       "      <td>3.7</td>\n",
       "      <td>176</td>\n",
       "      <td>95</td>\n",
       "      <td>30</td>\n",
       "      <td>0</td>\n",
       "      <td>0</td>\n",
       "      <td>0</td>\n",
       "      <td>0</td>\n",
       "      <td>...</td>\n",
       "      <td>0</td>\n",
       "      <td>0</td>\n",
       "      <td>0</td>\n",
       "      <td>0</td>\n",
       "      <td>0</td>\n",
       "      <td>0</td>\n",
       "      <td>0</td>\n",
       "      <td>0</td>\n",
       "      <td>0</td>\n",
       "      <td>0</td>\n",
       "    </tr>\n",
       "    <tr>\n",
       "      <th>4</th>\n",
       "      <td>200</td>\n",
       "      <td>99</td>\n",
       "      <td>3.2</td>\n",
       "      <td>521</td>\n",
       "      <td>235</td>\n",
       "      <td>65</td>\n",
       "      <td>0</td>\n",
       "      <td>0</td>\n",
       "      <td>0</td>\n",
       "      <td>0</td>\n",
       "      <td>...</td>\n",
       "      <td>0</td>\n",
       "      <td>0</td>\n",
       "      <td>0</td>\n",
       "      <td>0</td>\n",
       "      <td>0</td>\n",
       "      <td>0</td>\n",
       "      <td>0</td>\n",
       "      <td>0</td>\n",
       "      <td>0</td>\n",
       "      <td>0</td>\n",
       "    </tr>\n",
       "    <tr>\n",
       "      <th>...</th>\n",
       "      <td>...</td>\n",
       "      <td>...</td>\n",
       "      <td>...</td>\n",
       "      <td>...</td>\n",
       "      <td>...</td>\n",
       "      <td>...</td>\n",
       "      <td>...</td>\n",
       "      <td>...</td>\n",
       "      <td>...</td>\n",
       "      <td>...</td>\n",
       "      <td>...</td>\n",
       "      <td>...</td>\n",
       "      <td>...</td>\n",
       "      <td>...</td>\n",
       "      <td>...</td>\n",
       "      <td>...</td>\n",
       "      <td>...</td>\n",
       "      <td>...</td>\n",
       "      <td>...</td>\n",
       "      <td>...</td>\n",
       "      <td>...</td>\n",
       "    </tr>\n",
       "    <tr>\n",
       "      <th>11089</th>\n",
       "      <td>250</td>\n",
       "      <td>50</td>\n",
       "      <td>4.2</td>\n",
       "      <td>326</td>\n",
       "      <td>189</td>\n",
       "      <td>30</td>\n",
       "      <td>1</td>\n",
       "      <td>0</td>\n",
       "      <td>0</td>\n",
       "      <td>0</td>\n",
       "      <td>...</td>\n",
       "      <td>0</td>\n",
       "      <td>0</td>\n",
       "      <td>0</td>\n",
       "      <td>0</td>\n",
       "      <td>0</td>\n",
       "      <td>0</td>\n",
       "      <td>1</td>\n",
       "      <td>0</td>\n",
       "      <td>0</td>\n",
       "      <td>0</td>\n",
       "    </tr>\n",
       "    <tr>\n",
       "      <th>11090</th>\n",
       "      <td>100</td>\n",
       "      <td>50</td>\n",
       "      <td>3.6</td>\n",
       "      <td>36</td>\n",
       "      <td>16</td>\n",
       "      <td>30</td>\n",
       "      <td>0</td>\n",
       "      <td>0</td>\n",
       "      <td>0</td>\n",
       "      <td>0</td>\n",
       "      <td>...</td>\n",
       "      <td>0</td>\n",
       "      <td>0</td>\n",
       "      <td>0</td>\n",
       "      <td>0</td>\n",
       "      <td>0</td>\n",
       "      <td>0</td>\n",
       "      <td>0</td>\n",
       "      <td>0</td>\n",
       "      <td>0</td>\n",
       "      <td>0</td>\n",
       "    </tr>\n",
       "    <tr>\n",
       "      <th>11091</th>\n",
       "      <td>100</td>\n",
       "      <td>50</td>\n",
       "      <td>3.5</td>\n",
       "      <td>45</td>\n",
       "      <td>18</td>\n",
       "      <td>30</td>\n",
       "      <td>0</td>\n",
       "      <td>0</td>\n",
       "      <td>0</td>\n",
       "      <td>0</td>\n",
       "      <td>...</td>\n",
       "      <td>0</td>\n",
       "      <td>0</td>\n",
       "      <td>0</td>\n",
       "      <td>0</td>\n",
       "      <td>0</td>\n",
       "      <td>0</td>\n",
       "      <td>0</td>\n",
       "      <td>0</td>\n",
       "      <td>0</td>\n",
       "      <td>0</td>\n",
       "    </tr>\n",
       "    <tr>\n",
       "      <th>11092</th>\n",
       "      <td>100</td>\n",
       "      <td>50</td>\n",
       "      <td>3.1</td>\n",
       "      <td>24</td>\n",
       "      <td>9</td>\n",
       "      <td>30</td>\n",
       "      <td>0</td>\n",
       "      <td>0</td>\n",
       "      <td>0</td>\n",
       "      <td>0</td>\n",
       "      <td>...</td>\n",
       "      <td>0</td>\n",
       "      <td>0</td>\n",
       "      <td>0</td>\n",
       "      <td>0</td>\n",
       "      <td>0</td>\n",
       "      <td>0</td>\n",
       "      <td>0</td>\n",
       "      <td>0</td>\n",
       "      <td>0</td>\n",
       "      <td>0</td>\n",
       "    </tr>\n",
       "    <tr>\n",
       "      <th>11093</th>\n",
       "      <td>100</td>\n",
       "      <td>50</td>\n",
       "      <td>3.6</td>\n",
       "      <td>0</td>\n",
       "      <td>0</td>\n",
       "      <td>30</td>\n",
       "      <td>0</td>\n",
       "      <td>0</td>\n",
       "      <td>0</td>\n",
       "      <td>0</td>\n",
       "      <td>...</td>\n",
       "      <td>0</td>\n",
       "      <td>0</td>\n",
       "      <td>0</td>\n",
       "      <td>0</td>\n",
       "      <td>0</td>\n",
       "      <td>0</td>\n",
       "      <td>0</td>\n",
       "      <td>0</td>\n",
       "      <td>0</td>\n",
       "      <td>0</td>\n",
       "    </tr>\n",
       "  </tbody>\n",
       "</table>\n",
       "<p>11093 rows × 142 columns</p>\n",
       "</div>"
      ],
      "text/plain": [
       "       Average_Cost  Minimum_Order  Rating  Votes  Reviews  Delivery_Time  \\\n",
       "0               200             50     3.5     12        4             30   \n",
       "1               100             50     3.5     11        4             30   \n",
       "2               150             50     3.6     99       30             65   \n",
       "3               250             99     3.7    176       95             30   \n",
       "4               200             99     3.2    521      235             65   \n",
       "...             ...            ...     ...    ...      ...            ...   \n",
       "11089           250             50     4.2    326      189             30   \n",
       "11090           100             50     3.6     36       16             30   \n",
       "11091           100             50     3.5     45       18             30   \n",
       "11092           100             50     3.1     24        9             30   \n",
       "11093           100             50     3.6      0        0             30   \n",
       "\n",
       "       Location_BTM Layout 1, Electronic City  \\\n",
       "0                                           0   \n",
       "1                                           0   \n",
       "2                                           0   \n",
       "3                                           0   \n",
       "4                                           0   \n",
       "...                                       ...   \n",
       "11089                                       1   \n",
       "11090                                       0   \n",
       "11091                                       0   \n",
       "11092                                       0   \n",
       "11093                                       0   \n",
       "\n",
       "       Location_Babarpur, New Delhi, Delhi  Location_Chandni Chowk, Kolkata  \\\n",
       "0                                        0                                0   \n",
       "1                                        0                                0   \n",
       "2                                        0                                0   \n",
       "3                                        0                                0   \n",
       "4                                        0                                0   \n",
       "...                                    ...                              ...   \n",
       "11089                                    0                                0   \n",
       "11090                                    0                                0   \n",
       "11091                                    0                                0   \n",
       "11092                                    0                                0   \n",
       "11093                                    0                                0   \n",
       "\n",
       "       Location_Chatta Bazaar, Malakpet, Hyderabad  ...  Street Food  Sushi  \\\n",
       "0                                                0  ...            0      0   \n",
       "1                                                0  ...            0      0   \n",
       "2                                                0  ...            1      0   \n",
       "3                                                0  ...            0      0   \n",
       "4                                                0  ...            0      0   \n",
       "...                                            ...  ...          ...    ...   \n",
       "11089                                            0  ...            0      0   \n",
       "11090                                            0  ...            0      0   \n",
       "11091                                            0  ...            0      0   \n",
       "11092                                            0  ...            0      0   \n",
       "11093                                            0  ...            0      0   \n",
       "\n",
       "       Tamil  Tea  Tex-Mex  Thai  Tibetan  Turkish  Vietnamese  Wraps  \n",
       "0          0    0        0     0        0        0           0      1  \n",
       "1          0    0        0     0        0        0           0      0  \n",
       "2          0    0        0     0        0        0           0      0  \n",
       "3          0    0        0     0        0        0           0      0  \n",
       "4          0    0        0     0        0        0           0      0  \n",
       "...      ...  ...      ...   ...      ...      ...         ...    ...  \n",
       "11089      0    0        0     0        1        0           0      0  \n",
       "11090      0    0        0     0        0        0           0      0  \n",
       "11091      0    0        0     0        0        0           0      0  \n",
       "11092      0    0        0     0        0        0           0      0  \n",
       "11093      0    0        0     0        0        0           0      0  \n",
       "\n",
       "[11093 rows x 142 columns]"
      ]
     },
     "execution_count": 40,
     "metadata": {},
     "output_type": "execute_result"
    }
   ],
   "source": [
    "def copy(df):\n",
    "    return df.copy()\n",
    "\n",
    "def drop(df, col):\n",
    "    new_df = df.drop(col, axis=1)\n",
    "    return new_df\n",
    "\n",
    "def drop_row(df, col, find):\n",
    "    new_df = df[df[col] != find]\n",
    "    return new_df\n",
    "\n",
    "def get_dummies(df, col):\n",
    "    return pd.get_dummies(df, columns=[col])\n",
    "\n",
    "def get_dummies_comma(df, col):\n",
    "    new_df = df[col].str.get_dummies(\", \")\n",
    "    new_df = pd.concat([df, new_df], axis = 1)\n",
    "    new_df.drop(\"Cuisines\", axis=1, inplace=True)\n",
    "    return new_df\n",
    "\n",
    "def replace(df, col):\n",
    "    replace_list = [\"₹\", \",\", \" minutes\"]\n",
    "    new_df = df.copy()\n",
    "    for rep in replace_list:\n",
    "        new_df[col] = new_df[col].str.replace(rep, \"\")\n",
    "    return new_df\n",
    "\n",
    "def to_numeric(df, col):\n",
    "    new_df = df.copy()\n",
    "    new_df[col] = pd.to_numeric(new_df[col])\n",
    "    return new_df\n",
    "\n",
    "def fill(df, col, filled):\n",
    "    find = [\"-\", \"NEW\", \"Opening Soon\", \"Temporarily Closed\"]\n",
    "    if filled == 'median':\n",
    "        num = df[~df[col].isin(find)]\n",
    "        num = pd.to_numeric(num[col])\n",
    "        filled = str(num.median())\n",
    "    new_df = df.copy()\n",
    "    new_df.loc[df[col].isin(find), col] = filled\n",
    "    return new_df\n",
    "\n",
    "def train_pipeline(df):\n",
    "    return (df.pipe(replace, \"Delivery_Time\")\n",
    "              .pipe(to_numeric, \"Delivery_Time\"))\n",
    "    \n",
    "def pipeline(df):\n",
    "    return (df.pipe(copy)\n",
    "            .pipe(drop, \"Restaurant\")\n",
    "            .pipe(get_dummies, \"Location\")\n",
    "            .pipe(get_dummies_comma, \"Cuisines\")\n",
    "            .pipe(drop_row, \"Average_Cost\", \"for\")\n",
    "            .pipe(replace, \"Average_Cost\")\n",
    "            .pipe(to_numeric, \"Average_Cost\")\n",
    "            .pipe(replace, \"Minimum_Order\")\n",
    "            .pipe(to_numeric, \"Minimum_Order\")\n",
    "            .pipe(fill, \"Reviews\", \"0\")\n",
    "            .pipe(to_numeric, \"Reviews\")\n",
    "            .pipe(fill, \"Votes\", \"0\")\n",
    "            .pipe(to_numeric, \"Votes\")\n",
    "            .pipe(fill, \"Rating\", \"median\")\n",
    "            .pipe(to_numeric, \"Rating\"))\n",
    "\n",
    "train = pipeline(df)\n",
    "train = train_pipeline(train)\n",
    "train"
   ]
  },
  {
   "cell_type": "markdown",
   "id": "egyptian-worst",
   "metadata": {
    "papermill": {
     "duration": 0.064973,
     "end_time": "2021-06-04T13:15:49.775361",
     "exception": false,
     "start_time": "2021-06-04T13:15:49.710388",
     "status": "completed"
    },
    "tags": []
   },
   "source": [
    "Train data"
   ]
  },
  {
   "cell_type": "code",
   "execution_count": 41,
   "id": "cubic-marriage",
   "metadata": {
    "execution": {
     "iopub.execute_input": "2021-06-04T13:15:49.912595Z",
     "iopub.status.busy": "2021-06-04T13:15:49.911692Z",
     "iopub.status.idle": "2021-06-04T13:15:49.964088Z",
     "shell.execute_reply": "2021-06-04T13:15:49.963427Z",
     "shell.execute_reply.started": "2021-06-04T12:37:48.534096Z"
    },
    "papermill": {
     "duration": 0.124411,
     "end_time": "2021-06-04T13:15:49.964291",
     "exception": false,
     "start_time": "2021-06-04T13:15:49.839880",
     "status": "completed"
    },
    "tags": []
   },
   "outputs": [
    {
     "data": {
      "text/html": [
       "<div>\n",
       "<style scoped>\n",
       "    .dataframe tbody tr th:only-of-type {\n",
       "        vertical-align: middle;\n",
       "    }\n",
       "\n",
       "    .dataframe tbody tr th {\n",
       "        vertical-align: top;\n",
       "    }\n",
       "\n",
       "    .dataframe thead th {\n",
       "        text-align: right;\n",
       "    }\n",
       "</style>\n",
       "<table border=\"1\" class=\"dataframe\">\n",
       "  <thead>\n",
       "    <tr style=\"text-align: right;\">\n",
       "      <th></th>\n",
       "      <th>Average_Cost</th>\n",
       "      <th>Minimum_Order</th>\n",
       "      <th>Rating</th>\n",
       "      <th>Votes</th>\n",
       "      <th>Reviews</th>\n",
       "      <th>Location_BTM Layout 1, Electronic City</th>\n",
       "      <th>Location_Babarpur, New Delhi, Delhi</th>\n",
       "      <th>Location_Chandni Chowk, Kolkata</th>\n",
       "      <th>Location_Chatta Bazaar, Malakpet, Hyderabad</th>\n",
       "      <th>Location_D-Block, Sector 63, Noida</th>\n",
       "      <th>...</th>\n",
       "      <th>Street Food</th>\n",
       "      <th>Sushi</th>\n",
       "      <th>Tamil</th>\n",
       "      <th>Tea</th>\n",
       "      <th>Tex-Mex</th>\n",
       "      <th>Thai</th>\n",
       "      <th>Tibetan</th>\n",
       "      <th>Turkish</th>\n",
       "      <th>Vietnamese</th>\n",
       "      <th>Wraps</th>\n",
       "    </tr>\n",
       "  </thead>\n",
       "  <tbody>\n",
       "    <tr>\n",
       "      <th>0</th>\n",
       "      <td>200</td>\n",
       "      <td>50</td>\n",
       "      <td>3.5</td>\n",
       "      <td>12</td>\n",
       "      <td>4</td>\n",
       "      <td>0</td>\n",
       "      <td>0</td>\n",
       "      <td>0</td>\n",
       "      <td>0</td>\n",
       "      <td>0</td>\n",
       "      <td>...</td>\n",
       "      <td>0</td>\n",
       "      <td>0</td>\n",
       "      <td>0</td>\n",
       "      <td>0</td>\n",
       "      <td>0</td>\n",
       "      <td>0</td>\n",
       "      <td>0</td>\n",
       "      <td>0</td>\n",
       "      <td>0</td>\n",
       "      <td>1</td>\n",
       "    </tr>\n",
       "    <tr>\n",
       "      <th>1</th>\n",
       "      <td>100</td>\n",
       "      <td>50</td>\n",
       "      <td>3.5</td>\n",
       "      <td>11</td>\n",
       "      <td>4</td>\n",
       "      <td>0</td>\n",
       "      <td>0</td>\n",
       "      <td>0</td>\n",
       "      <td>0</td>\n",
       "      <td>0</td>\n",
       "      <td>...</td>\n",
       "      <td>0</td>\n",
       "      <td>0</td>\n",
       "      <td>0</td>\n",
       "      <td>0</td>\n",
       "      <td>0</td>\n",
       "      <td>0</td>\n",
       "      <td>0</td>\n",
       "      <td>0</td>\n",
       "      <td>0</td>\n",
       "      <td>0</td>\n",
       "    </tr>\n",
       "    <tr>\n",
       "      <th>2</th>\n",
       "      <td>150</td>\n",
       "      <td>50</td>\n",
       "      <td>3.6</td>\n",
       "      <td>99</td>\n",
       "      <td>30</td>\n",
       "      <td>0</td>\n",
       "      <td>0</td>\n",
       "      <td>0</td>\n",
       "      <td>0</td>\n",
       "      <td>0</td>\n",
       "      <td>...</td>\n",
       "      <td>1</td>\n",
       "      <td>0</td>\n",
       "      <td>0</td>\n",
       "      <td>0</td>\n",
       "      <td>0</td>\n",
       "      <td>0</td>\n",
       "      <td>0</td>\n",
       "      <td>0</td>\n",
       "      <td>0</td>\n",
       "      <td>0</td>\n",
       "    </tr>\n",
       "    <tr>\n",
       "      <th>3</th>\n",
       "      <td>250</td>\n",
       "      <td>99</td>\n",
       "      <td>3.7</td>\n",
       "      <td>176</td>\n",
       "      <td>95</td>\n",
       "      <td>0</td>\n",
       "      <td>0</td>\n",
       "      <td>0</td>\n",
       "      <td>0</td>\n",
       "      <td>0</td>\n",
       "      <td>...</td>\n",
       "      <td>0</td>\n",
       "      <td>0</td>\n",
       "      <td>0</td>\n",
       "      <td>0</td>\n",
       "      <td>0</td>\n",
       "      <td>0</td>\n",
       "      <td>0</td>\n",
       "      <td>0</td>\n",
       "      <td>0</td>\n",
       "      <td>0</td>\n",
       "    </tr>\n",
       "    <tr>\n",
       "      <th>4</th>\n",
       "      <td>200</td>\n",
       "      <td>99</td>\n",
       "      <td>3.2</td>\n",
       "      <td>521</td>\n",
       "      <td>235</td>\n",
       "      <td>0</td>\n",
       "      <td>0</td>\n",
       "      <td>0</td>\n",
       "      <td>0</td>\n",
       "      <td>0</td>\n",
       "      <td>...</td>\n",
       "      <td>0</td>\n",
       "      <td>0</td>\n",
       "      <td>0</td>\n",
       "      <td>0</td>\n",
       "      <td>0</td>\n",
       "      <td>0</td>\n",
       "      <td>0</td>\n",
       "      <td>0</td>\n",
       "      <td>0</td>\n",
       "      <td>0</td>\n",
       "    </tr>\n",
       "    <tr>\n",
       "      <th>...</th>\n",
       "      <td>...</td>\n",
       "      <td>...</td>\n",
       "      <td>...</td>\n",
       "      <td>...</td>\n",
       "      <td>...</td>\n",
       "      <td>...</td>\n",
       "      <td>...</td>\n",
       "      <td>...</td>\n",
       "      <td>...</td>\n",
       "      <td>...</td>\n",
       "      <td>...</td>\n",
       "      <td>...</td>\n",
       "      <td>...</td>\n",
       "      <td>...</td>\n",
       "      <td>...</td>\n",
       "      <td>...</td>\n",
       "      <td>...</td>\n",
       "      <td>...</td>\n",
       "      <td>...</td>\n",
       "      <td>...</td>\n",
       "      <td>...</td>\n",
       "    </tr>\n",
       "    <tr>\n",
       "      <th>11089</th>\n",
       "      <td>250</td>\n",
       "      <td>50</td>\n",
       "      <td>4.2</td>\n",
       "      <td>326</td>\n",
       "      <td>189</td>\n",
       "      <td>1</td>\n",
       "      <td>0</td>\n",
       "      <td>0</td>\n",
       "      <td>0</td>\n",
       "      <td>0</td>\n",
       "      <td>...</td>\n",
       "      <td>0</td>\n",
       "      <td>0</td>\n",
       "      <td>0</td>\n",
       "      <td>0</td>\n",
       "      <td>0</td>\n",
       "      <td>0</td>\n",
       "      <td>1</td>\n",
       "      <td>0</td>\n",
       "      <td>0</td>\n",
       "      <td>0</td>\n",
       "    </tr>\n",
       "    <tr>\n",
       "      <th>11090</th>\n",
       "      <td>100</td>\n",
       "      <td>50</td>\n",
       "      <td>3.6</td>\n",
       "      <td>36</td>\n",
       "      <td>16</td>\n",
       "      <td>0</td>\n",
       "      <td>0</td>\n",
       "      <td>0</td>\n",
       "      <td>0</td>\n",
       "      <td>0</td>\n",
       "      <td>...</td>\n",
       "      <td>0</td>\n",
       "      <td>0</td>\n",
       "      <td>0</td>\n",
       "      <td>0</td>\n",
       "      <td>0</td>\n",
       "      <td>0</td>\n",
       "      <td>0</td>\n",
       "      <td>0</td>\n",
       "      <td>0</td>\n",
       "      <td>0</td>\n",
       "    </tr>\n",
       "    <tr>\n",
       "      <th>11091</th>\n",
       "      <td>100</td>\n",
       "      <td>50</td>\n",
       "      <td>3.5</td>\n",
       "      <td>45</td>\n",
       "      <td>18</td>\n",
       "      <td>0</td>\n",
       "      <td>0</td>\n",
       "      <td>0</td>\n",
       "      <td>0</td>\n",
       "      <td>0</td>\n",
       "      <td>...</td>\n",
       "      <td>0</td>\n",
       "      <td>0</td>\n",
       "      <td>0</td>\n",
       "      <td>0</td>\n",
       "      <td>0</td>\n",
       "      <td>0</td>\n",
       "      <td>0</td>\n",
       "      <td>0</td>\n",
       "      <td>0</td>\n",
       "      <td>0</td>\n",
       "    </tr>\n",
       "    <tr>\n",
       "      <th>11092</th>\n",
       "      <td>100</td>\n",
       "      <td>50</td>\n",
       "      <td>3.1</td>\n",
       "      <td>24</td>\n",
       "      <td>9</td>\n",
       "      <td>0</td>\n",
       "      <td>0</td>\n",
       "      <td>0</td>\n",
       "      <td>0</td>\n",
       "      <td>0</td>\n",
       "      <td>...</td>\n",
       "      <td>0</td>\n",
       "      <td>0</td>\n",
       "      <td>0</td>\n",
       "      <td>0</td>\n",
       "      <td>0</td>\n",
       "      <td>0</td>\n",
       "      <td>0</td>\n",
       "      <td>0</td>\n",
       "      <td>0</td>\n",
       "      <td>0</td>\n",
       "    </tr>\n",
       "    <tr>\n",
       "      <th>11093</th>\n",
       "      <td>100</td>\n",
       "      <td>50</td>\n",
       "      <td>3.6</td>\n",
       "      <td>0</td>\n",
       "      <td>0</td>\n",
       "      <td>0</td>\n",
       "      <td>0</td>\n",
       "      <td>0</td>\n",
       "      <td>0</td>\n",
       "      <td>0</td>\n",
       "      <td>...</td>\n",
       "      <td>0</td>\n",
       "      <td>0</td>\n",
       "      <td>0</td>\n",
       "      <td>0</td>\n",
       "      <td>0</td>\n",
       "      <td>0</td>\n",
       "      <td>0</td>\n",
       "      <td>0</td>\n",
       "      <td>0</td>\n",
       "      <td>0</td>\n",
       "    </tr>\n",
       "  </tbody>\n",
       "</table>\n",
       "<p>11093 rows × 141 columns</p>\n",
       "</div>"
      ],
      "text/plain": [
       "       Average_Cost  Minimum_Order  Rating  Votes  Reviews  \\\n",
       "0               200             50     3.5     12        4   \n",
       "1               100             50     3.5     11        4   \n",
       "2               150             50     3.6     99       30   \n",
       "3               250             99     3.7    176       95   \n",
       "4               200             99     3.2    521      235   \n",
       "...             ...            ...     ...    ...      ...   \n",
       "11089           250             50     4.2    326      189   \n",
       "11090           100             50     3.6     36       16   \n",
       "11091           100             50     3.5     45       18   \n",
       "11092           100             50     3.1     24        9   \n",
       "11093           100             50     3.6      0        0   \n",
       "\n",
       "       Location_BTM Layout 1, Electronic City  \\\n",
       "0                                           0   \n",
       "1                                           0   \n",
       "2                                           0   \n",
       "3                                           0   \n",
       "4                                           0   \n",
       "...                                       ...   \n",
       "11089                                       1   \n",
       "11090                                       0   \n",
       "11091                                       0   \n",
       "11092                                       0   \n",
       "11093                                       0   \n",
       "\n",
       "       Location_Babarpur, New Delhi, Delhi  Location_Chandni Chowk, Kolkata  \\\n",
       "0                                        0                                0   \n",
       "1                                        0                                0   \n",
       "2                                        0                                0   \n",
       "3                                        0                                0   \n",
       "4                                        0                                0   \n",
       "...                                    ...                              ...   \n",
       "11089                                    0                                0   \n",
       "11090                                    0                                0   \n",
       "11091                                    0                                0   \n",
       "11092                                    0                                0   \n",
       "11093                                    0                                0   \n",
       "\n",
       "       Location_Chatta Bazaar, Malakpet, Hyderabad  \\\n",
       "0                                                0   \n",
       "1                                                0   \n",
       "2                                                0   \n",
       "3                                                0   \n",
       "4                                                0   \n",
       "...                                            ...   \n",
       "11089                                            0   \n",
       "11090                                            0   \n",
       "11091                                            0   \n",
       "11092                                            0   \n",
       "11093                                            0   \n",
       "\n",
       "       Location_D-Block, Sector 63, Noida  ...  Street Food  Sushi  Tamil  \\\n",
       "0                                       0  ...            0      0      0   \n",
       "1                                       0  ...            0      0      0   \n",
       "2                                       0  ...            1      0      0   \n",
       "3                                       0  ...            0      0      0   \n",
       "4                                       0  ...            0      0      0   \n",
       "...                                   ...  ...          ...    ...    ...   \n",
       "11089                                   0  ...            0      0      0   \n",
       "11090                                   0  ...            0      0      0   \n",
       "11091                                   0  ...            0      0      0   \n",
       "11092                                   0  ...            0      0      0   \n",
       "11093                                   0  ...            0      0      0   \n",
       "\n",
       "       Tea  Tex-Mex  Thai  Tibetan  Turkish  Vietnamese  Wraps  \n",
       "0        0        0     0        0        0           0      1  \n",
       "1        0        0     0        0        0           0      0  \n",
       "2        0        0     0        0        0           0      0  \n",
       "3        0        0     0        0        0           0      0  \n",
       "4        0        0     0        0        0           0      0  \n",
       "...    ...      ...   ...      ...      ...         ...    ...  \n",
       "11089    0        0     0        1        0           0      0  \n",
       "11090    0        0     0        0        0           0      0  \n",
       "11091    0        0     0        0        0           0      0  \n",
       "11092    0        0     0        0        0           0      0  \n",
       "11093    0        0     0        0        0           0      0  \n",
       "\n",
       "[11093 rows x 141 columns]"
      ]
     },
     "execution_count": 41,
     "metadata": {},
     "output_type": "execute_result"
    }
   ],
   "source": [
    "train_data = drop(train, \"Delivery_Time\")\n",
    "train_data"
   ]
  },
  {
   "cell_type": "markdown",
   "id": "surrounded-appendix",
   "metadata": {
    "papermill": {
     "duration": 0.065753,
     "end_time": "2021-06-04T13:15:50.097476",
     "exception": false,
     "start_time": "2021-06-04T13:15:50.031723",
     "status": "completed"
    },
    "tags": []
   },
   "source": [
    "`Pandas Dataframe` should be converted into `numpy array` to make a model"
   ]
  },
  {
   "cell_type": "code",
   "execution_count": 42,
   "id": "progressive-storage",
   "metadata": {
    "execution": {
     "iopub.execute_input": "2021-06-04T13:15:50.264442Z",
     "iopub.status.busy": "2021-06-04T13:15:50.262885Z",
     "iopub.status.idle": "2021-06-04T13:15:50.282352Z",
     "shell.execute_reply": "2021-06-04T13:15:50.281448Z",
     "shell.execute_reply.started": "2021-06-04T12:37:48.575576Z"
    },
    "papermill": {
     "duration": 0.107333,
     "end_time": "2021-06-04T13:15:50.282545",
     "exception": false,
     "start_time": "2021-06-04T13:15:50.175212",
     "status": "completed"
    },
    "tags": []
   },
   "outputs": [
    {
     "data": {
      "text/plain": [
       "array([[200. ,  50. ,   3.5, ...,   0. ,   0. ,   1. ],\n",
       "       [100. ,  50. ,   3.5, ...,   0. ,   0. ,   0. ],\n",
       "       [150. ,  50. ,   3.6, ...,   0. ,   0. ,   0. ],\n",
       "       ...,\n",
       "       [100. ,  50. ,   3.5, ...,   0. ,   0. ,   0. ],\n",
       "       [100. ,  50. ,   3.1, ...,   0. ,   0. ,   0. ],\n",
       "       [100. ,  50. ,   3.6, ...,   0. ,   0. ,   0. ]])"
      ]
     },
     "execution_count": 42,
     "metadata": {},
     "output_type": "execute_result"
    }
   ],
   "source": [
    "train_data_numpy = train_data.to_numpy()\n",
    "train_data_numpy"
   ]
  },
  {
   "cell_type": "code",
   "execution_count": 43,
   "id": "allied-above",
   "metadata": {
    "execution": {
     "iopub.execute_input": "2021-06-04T13:15:50.447020Z",
     "iopub.status.busy": "2021-06-04T13:15:50.445759Z",
     "iopub.status.idle": "2021-06-04T13:15:50.451466Z",
     "shell.execute_reply": "2021-06-04T13:15:50.450723Z",
     "shell.execute_reply.started": "2021-06-04T12:37:48.588708Z"
    },
    "papermill": {
     "duration": 0.085115,
     "end_time": "2021-06-04T13:15:50.451648",
     "exception": false,
     "start_time": "2021-06-04T13:15:50.366533",
     "status": "completed"
    },
    "tags": []
   },
   "outputs": [
    {
     "data": {
      "text/plain": [
       "0        30\n",
       "1        30\n",
       "2        65\n",
       "3        30\n",
       "4        65\n",
       "         ..\n",
       "11089    30\n",
       "11090    30\n",
       "11091    30\n",
       "11092    30\n",
       "11093    30\n",
       "Name: Delivery_Time, Length: 11093, dtype: int64"
      ]
     },
     "execution_count": 43,
     "metadata": {},
     "output_type": "execute_result"
    }
   ],
   "source": [
    "train_label = train[\"Delivery_Time\"]\n",
    "train_label"
   ]
  },
  {
   "cell_type": "markdown",
   "id": "productive-pacific",
   "metadata": {
    "papermill": {
     "duration": 0.066688,
     "end_time": "2021-06-04T13:15:50.584120",
     "exception": false,
     "start_time": "2021-06-04T13:15:50.517432",
     "status": "completed"
    },
    "tags": []
   },
   "source": [
    "## 2. Select a model and train"
   ]
  },
  {
   "cell_type": "markdown",
   "id": "electoral-assurance",
   "metadata": {
    "papermill": {
     "duration": 0.065064,
     "end_time": "2021-06-04T13:15:50.714667",
     "exception": false,
     "start_time": "2021-06-04T13:15:50.649603",
     "status": "completed"
    },
    "tags": []
   },
   "source": [
    "Now with prepared data, I will train the model with simple `Scikit-Learn` based Machine-Learning. I'll use `RandomForestRegressor` which is very powerful for regression."
   ]
  },
  {
   "cell_type": "code",
   "execution_count": 44,
   "id": "psychological-machinery",
   "metadata": {
    "execution": {
     "iopub.execute_input": "2021-06-04T13:15:50.855554Z",
     "iopub.status.busy": "2021-06-04T13:15:50.854085Z",
     "iopub.status.idle": "2021-06-04T13:15:51.930041Z",
     "shell.execute_reply": "2021-06-04T13:15:51.930753Z",
     "shell.execute_reply.started": "2021-06-04T12:37:48.598877Z"
    },
    "papermill": {
     "duration": 1.150732,
     "end_time": "2021-06-04T13:15:51.931010",
     "exception": false,
     "start_time": "2021-06-04T13:15:50.780278",
     "status": "completed"
    },
    "tags": []
   },
   "outputs": [
    {
     "data": {
      "text/plain": [
       "RandomForestRegressor(n_estimators=10, random_state=42)"
      ]
     },
     "execution_count": 44,
     "metadata": {},
     "output_type": "execute_result"
    }
   ],
   "source": [
    "forest = RandomForestRegressor(n_estimators=10, random_state=42)\n",
    "forest.fit(train_data_numpy, train_label)"
   ]
  },
  {
   "cell_type": "markdown",
   "id": "spectacular-muslim",
   "metadata": {
    "papermill": {
     "duration": 0.070689,
     "end_time": "2021-06-04T13:15:52.068505",
     "exception": false,
     "start_time": "2021-06-04T13:15:51.997816",
     "status": "completed"
    },
    "tags": []
   },
   "source": [
    "Let's check the error using cross validation especially the `K-fold`. The `cross_val_score` split the data into `train data` and `validation data`. `K` means we loop this things for `k` times. Set `k = 10`."
   ]
  },
  {
   "cell_type": "code",
   "execution_count": 45,
   "id": "chinese-strategy",
   "metadata": {
    "execution": {
     "iopub.execute_input": "2021-06-04T13:15:52.213369Z",
     "iopub.status.busy": "2021-06-04T13:15:52.212358Z",
     "iopub.status.idle": "2021-06-04T13:16:00.493204Z",
     "shell.execute_reply": "2021-06-04T13:16:00.493967Z",
     "shell.execute_reply.started": "2021-06-04T12:37:49.464268Z"
    },
    "papermill": {
     "duration": 8.357577,
     "end_time": "2021-06-04T13:16:00.494297",
     "exception": false,
     "start_time": "2021-06-04T13:15:52.136720",
     "status": "completed"
    },
    "tags": []
   },
   "outputs": [
    {
     "name": "stdout",
     "output_type": "stream",
     "text": [
      "Scores: [10.002267    9.54095354  9.46107189 10.36611001 10.04652359 10.2903205\n",
      " 10.06636721 10.15290653 11.01493319 10.78654626]\n",
      "Mean: 10.172799971500904\n",
      "Standard deviation: 0.4582128759317515\n"
     ]
    }
   ],
   "source": [
    "forest_scores = cross_val_score(forest, train_data_numpy, train_label, scoring=\"neg_mean_squared_error\", cv=10)\n",
    "forest_rmse_scores = np.sqrt(-forest_scores)\n",
    "\n",
    "def display_scores(scores):\n",
    "    print(\"Scores:\", scores)\n",
    "    print(\"Mean:\", scores.mean())\n",
    "    print(\"Standard deviation:\", scores.std())\n",
    "    \n",
    "display_scores(forest_rmse_scores)"
   ]
  },
  {
   "cell_type": "markdown",
   "id": "local-cause",
   "metadata": {
    "papermill": {
     "duration": 0.071713,
     "end_time": "2021-06-04T13:16:00.633563",
     "exception": false,
     "start_time": "2021-06-04T13:16:00.561850",
     "status": "completed"
    },
    "tags": []
   },
   "source": [
    "RMSE mean for `10-fold cross validation`: 10.172799971500904"
   ]
  },
  {
   "cell_type": "markdown",
   "id": "african-freeware",
   "metadata": {
    "papermill": {
     "duration": 0.07363,
     "end_time": "2021-06-04T13:16:00.778631",
     "exception": false,
     "start_time": "2021-06-04T13:16:00.705001",
     "status": "completed"
    },
    "tags": []
   },
   "source": [
    "## 3. Solve the problem"
   ]
  },
  {
   "cell_type": "markdown",
   "id": "spectacular-development",
   "metadata": {
    "papermill": {
     "duration": 0.072667,
     "end_time": "2021-06-04T13:16:00.926733",
     "exception": false,
     "start_time": "2021-06-04T13:16:00.854066",
     "status": "completed"
    },
    "tags": []
   },
   "source": [
    "Now get the test data and check the model precision."
   ]
  },
  {
   "cell_type": "code",
   "execution_count": 46,
   "id": "different-village",
   "metadata": {
    "execution": {
     "iopub.execute_input": "2021-06-04T13:16:01.085022Z",
     "iopub.status.busy": "2021-06-04T13:16:01.084052Z",
     "iopub.status.idle": "2021-06-04T13:16:01.914742Z",
     "shell.execute_reply": "2021-06-04T13:16:01.914117Z",
     "shell.execute_reply.started": "2021-06-04T13:00:00.497446Z"
    },
    "papermill": {
     "duration": 0.913677,
     "end_time": "2021-06-04T13:16:01.914956",
     "exception": false,
     "start_time": "2021-06-04T13:16:01.001279",
     "status": "completed"
    },
    "tags": []
   },
   "outputs": [
    {
     "data": {
      "text/html": [
       "<div>\n",
       "<style scoped>\n",
       "    .dataframe tbody tr th:only-of-type {\n",
       "        vertical-align: middle;\n",
       "    }\n",
       "\n",
       "    .dataframe tbody tr th {\n",
       "        vertical-align: top;\n",
       "    }\n",
       "\n",
       "    .dataframe thead th {\n",
       "        text-align: right;\n",
       "    }\n",
       "</style>\n",
       "<table border=\"1\" class=\"dataframe\">\n",
       "  <thead>\n",
       "    <tr style=\"text-align: right;\">\n",
       "      <th></th>\n",
       "      <th>Restaurant</th>\n",
       "      <th>Location</th>\n",
       "      <th>Cuisines</th>\n",
       "      <th>Average_Cost</th>\n",
       "      <th>Minimum_Order</th>\n",
       "      <th>Rating</th>\n",
       "      <th>Votes</th>\n",
       "      <th>Reviews</th>\n",
       "    </tr>\n",
       "  </thead>\n",
       "  <tbody>\n",
       "    <tr>\n",
       "      <th>0</th>\n",
       "      <td>ID_2842</td>\n",
       "      <td>Mico Layout, Stage 2, BTM Layout,Bangalore</td>\n",
       "      <td>North Indian, Chinese, Assamese</td>\n",
       "      <td>₹350</td>\n",
       "      <td>₹50</td>\n",
       "      <td>4.2</td>\n",
       "      <td>361</td>\n",
       "      <td>225</td>\n",
       "    </tr>\n",
       "    <tr>\n",
       "      <th>1</th>\n",
       "      <td>ID_730</td>\n",
       "      <td>Mico Layout, Stage 2, BTM Layout,Bangalore</td>\n",
       "      <td>Biryani, Kebab</td>\n",
       "      <td>₹100</td>\n",
       "      <td>₹50</td>\n",
       "      <td>NEW</td>\n",
       "      <td>-</td>\n",
       "      <td>-</td>\n",
       "    </tr>\n",
       "    <tr>\n",
       "      <th>2</th>\n",
       "      <td>ID_4620</td>\n",
       "      <td>Sector 1, Noida</td>\n",
       "      <td>Fast Food</td>\n",
       "      <td>₹100</td>\n",
       "      <td>₹50</td>\n",
       "      <td>3.6</td>\n",
       "      <td>36</td>\n",
       "      <td>16</td>\n",
       "    </tr>\n",
       "    <tr>\n",
       "      <th>3</th>\n",
       "      <td>ID_5470</td>\n",
       "      <td>Babarpur, New Delhi, Delhi</td>\n",
       "      <td>Mithai, North Indian, Chinese, Fast Food, Sout...</td>\n",
       "      <td>₹200</td>\n",
       "      <td>₹50</td>\n",
       "      <td>3.6</td>\n",
       "      <td>66</td>\n",
       "      <td>33</td>\n",
       "    </tr>\n",
       "    <tr>\n",
       "      <th>4</th>\n",
       "      <td>ID_3249</td>\n",
       "      <td>Sector 1, Noida</td>\n",
       "      <td>Chinese, Fast Food</td>\n",
       "      <td>₹150</td>\n",
       "      <td>₹50</td>\n",
       "      <td>2.9</td>\n",
       "      <td>38</td>\n",
       "      <td>14</td>\n",
       "    </tr>\n",
       "  </tbody>\n",
       "</table>\n",
       "</div>"
      ],
      "text/plain": [
       "  Restaurant                                    Location  \\\n",
       "0    ID_2842  Mico Layout, Stage 2, BTM Layout,Bangalore   \n",
       "1     ID_730  Mico Layout, Stage 2, BTM Layout,Bangalore   \n",
       "2    ID_4620                             Sector 1, Noida   \n",
       "3    ID_5470                  Babarpur, New Delhi, Delhi   \n",
       "4    ID_3249                             Sector 1, Noida   \n",
       "\n",
       "                                            Cuisines Average_Cost  \\\n",
       "0                    North Indian, Chinese, Assamese         ₹350   \n",
       "1                                     Biryani, Kebab         ₹100   \n",
       "2                                          Fast Food         ₹100   \n",
       "3  Mithai, North Indian, Chinese, Fast Food, Sout...         ₹200   \n",
       "4                                 Chinese, Fast Food         ₹150   \n",
       "\n",
       "  Minimum_Order Rating Votes Reviews  \n",
       "0           ₹50    4.2   361     225  \n",
       "1           ₹50    NEW     -       -  \n",
       "2           ₹50    3.6    36      16  \n",
       "3           ₹50    3.6    66      33  \n",
       "4           ₹50    2.9    38      14  "
      ]
     },
     "execution_count": 46,
     "metadata": {},
     "output_type": "execute_result"
    }
   ],
   "source": [
    "pd.read_excel(TEST_PATH).head()"
   ]
  },
  {
   "cell_type": "code",
   "execution_count": 43,
   "id": "small-editing",
   "metadata": {
    "execution": {
     "iopub.execute_input": "2021-06-04T13:16:02.057181Z",
     "iopub.status.busy": "2021-06-04T13:16:02.056450Z",
     "iopub.status.idle": "2021-06-04T13:16:04.989468Z",
     "shell.execute_reply": "2021-06-04T13:16:04.988839Z",
     "shell.execute_reply.started": "2021-06-04T13:07:23.042312Z"
    },
    "papermill": {
     "duration": 3.005704,
     "end_time": "2021-06-04T13:16:04.989645",
     "exception": false,
     "start_time": "2021-06-04T13:16:01.983941",
     "status": "completed"
    },
    "tags": []
   },
   "outputs": [],
   "source": [
    "test_df = pd.read_excel(TEST_PATH)\n",
    "\n",
    "dataset = pd.concat([df, test_df], axis=0)\n",
    "dataset = pipeline(dataset)\n",
    "\n",
    "test = dataset[len(train):] # for 1-removed row\n",
    "test = test.drop(\"Delivery_Time\", axis=1)\n",
    "\n",
    "prediction = forest.predict(test)\n",
    "                            \n",
    "submission = pd.DataFrame({\"Delivery_Time\": prediction})\n",
    "submission.to_csv('submission.csv', index=False)"
   ]
  }
 ],
 "metadata": {
  "kernelspec": {
   "display_name": "Python 3.9.7 ('base')",
   "language": "python",
   "name": "python3"
  },
  "language_info": {
   "codemirror_mode": {
    "name": "ipython",
    "version": 3
   },
   "file_extension": ".py",
   "mimetype": "text/x-python",
   "name": "python",
   "nbconvert_exporter": "python",
   "pygments_lexer": "ipython3",
   "version": "3.9.7"
  },
  "papermill": {
   "default_parameters": {},
   "duration": 54.168099,
   "end_time": "2021-06-04T13:16:06.579736",
   "environment_variables": {},
   "exception": null,
   "input_path": "__notebook__.ipynb",
   "output_path": "__notebook__.ipynb",
   "parameters": {},
   "start_time": "2021-06-04T13:15:12.411637",
   "version": "2.3.3"
  },
  "vscode": {
   "interpreter": {
    "hash": "ad2bdc8ecc057115af97d19610ffacc2b4e99fae6737bb82f5d7fb13d2f2c186"
   }
  }
 },
 "nbformat": 4,
 "nbformat_minor": 5
}
